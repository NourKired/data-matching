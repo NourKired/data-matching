{
 "cells": [
  {
   "cell_type": "code",
   "execution_count": 3,
   "metadata": {},
   "outputs": [],
   "source": [
    "import pandas as pd\n",
    "import os\n",
    "# from src.data_matching.main import get_edgelist"
   ]
  },
  {
   "cell_type": "code",
   "execution_count": 4,
   "metadata": {},
   "outputs": [
    {
     "data": {
      "text/plain": [
       "(Index(['musician', 'birthDate', 'familyNameLabel', 'givenNameLabel',\n",
       "        'numberOfChildren', 'websiteLabel', 'residenceLabel', 'ethnicityLabel',\n",
       "        'religionLabel', 'activityStart', 'twitterNameLabel', 'geniusNameLabel',\n",
       "        'recordLabelLabel'],\n",
       "       dtype='object'),\n",
       " Index(['musician', 'birthDate', 'familyNameLabel', 'givenNameLabel',\n",
       "        'numberOfChildren', 'websiteLabel', 'residenceLabel', 'ethnicityLabel',\n",
       "        'religionLabel', 'activityStart', 'twitterNameLabel', 'geniusNameLabel',\n",
       "        'recordLabelLabel'],\n",
       "       dtype='object'))"
      ]
     },
     "execution_count": 4,
     "metadata": {},
     "output_type": "execute_result"
    }
   ],
   "source": [
    "df_source=pd.read_csv(\"./tests/datasets/Wikidata/Musicians/Musicians_joinable/musicians_joinable_source.csv\")\n",
    "df_target=pd.read_csv(\"./tests/datasets/Wikidata/Musicians/Musicians_joinable/musicians_joinable_source.csv\")\n",
    "df_source.columns,df_target.columns"
   ]
  },
  {
   "cell_type": "code",
   "execution_count": null,
   "metadata": {},
   "outputs": [],
   "source": []
  },
  {
   "cell_type": "code",
   "execution_count": 2,
   "metadata": {},
   "outputs": [],
   "source": [
    "path=\"/mnt/c/Users/nkired/Documents/data-matching/tests/input_data\"\n",
    "# for file in os.listdir(path):\n",
    "#     base_name=os.path.basename(file).split(\".\")[0]\n",
    "#     path_file=os.path.join(path,file)\n",
    "#     df=pd.read_csv(path_file)\n",
    "#     reduced_df=df.sample(int(0.25*len(df)))\n",
    "#     base_new_name=base_name+\"_small.csv\"\n",
    "#     reduced_df.to_csv(os.path.join(path,base_new_name),index=False)\n"
   ]
  },
  {
   "cell_type": "code",
   "execution_count": 3,
   "metadata": {},
   "outputs": [],
   "source": [
    "from src.data_matching.EmbDI.edgelist import EdgeList\n",
    "\n",
    "def get_edgelist(input_file, out_dir, export: bool =True, overwrite: bool = True, dry_run: bool = False):\n",
    "    \"\"\"Translate an input CSV file into an edgelist.\"\"\"\n",
    "    dfpath = input_file\n",
    "    base_name = os.path.basename(input_file).replace(\".csv\", \".txt\")\n",
    "    edgefile = os.path.join(out_dir, base_name)\n",
    "    info_file = None\n",
    "    df = pd.read_csv(dfpath, low_memory=False)\n",
    "    pref = [\"3#__tn\", \"3$__tt\", \"5$__idx\", \"1$__cid\"]\n",
    "    el = EdgeList(df, edgefile, pref, info_file, flatten=True)\n",
    "    if dry_run:\n",
    "        if export:\n",
    "            el.convert_to_dict()\n",
    "            gdict = el.convert_to_dict()\n",
    "            print(\"el\", el.convert_to_dict())\n",
    "            print(\"gdict\", gdict)\n",
    "            g_nx = nx.from_dict_of_lists(gdict)\n",
    "            n, _ = osp.splitext(edgefile)\n",
    "            nx_fname = n + \".nx\"\n",
    "            pkl_fname = n + \".pkl\"\n",
    "            if overwrite:\n",
    "                with open(nx_fname, \"wb\") as nx_file:\n",
    "                    pickle.dump(g_nx, nx_file)\n",
    "                with open(pkl_fname, \"wb\") as pkl_file:\n",
    "                    pickle.dump(gdict, pkl_file)\n"
   ]
  },
  {
   "cell_type": "code",
   "execution_count": 4,
   "metadata": {},
   "outputs": [
    {
     "name": "stderr",
     "output_type": "stream",
     "text": [
      "340it [00:00, 2333.50it/s]\n"
     ]
    },
    {
     "name": "stdout",
     "output_type": "stream",
     "text": [
      "\n"
     ]
    },
    {
     "name": "stderr",
     "output_type": "stream",
     "text": [
      "806it [00:00, 2619.71it/s]\n"
     ]
    },
    {
     "name": "stdout",
     "output_type": "stream",
     "text": [
      "\n"
     ]
    },
    {
     "name": "stderr",
     "output_type": "stream",
     "text": [
      "1086it [00:00, 2388.34it/s]\n"
     ]
    },
    {
     "name": "stdout",
     "output_type": "stream",
     "text": [
      "\n"
     ]
    },
    {
     "name": "stderr",
     "output_type": "stream",
     "text": [
      "750it [00:00, 1710.18it/s]\n"
     ]
    },
    {
     "name": "stdout",
     "output_type": "stream",
     "text": [
      "\n"
     ]
    },
    {
     "name": "stderr",
     "output_type": "stream",
     "text": [
      "654it [00:00, 1765.01it/s]\n"
     ]
    },
    {
     "name": "stdout",
     "output_type": "stream",
     "text": [
      "\n"
     ]
    },
    {
     "name": "stderr",
     "output_type": "stream",
     "text": [
      "125it [00:00, 2058.57it/s]\n"
     ]
    },
    {
     "name": "stdout",
     "output_type": "stream",
     "text": [
      "\n"
     ]
    },
    {
     "name": "stderr",
     "output_type": "stream",
     "text": [
      "573it [00:00, 2023.69it/s]\n"
     ]
    },
    {
     "name": "stdout",
     "output_type": "stream",
     "text": [
      "\n"
     ]
    },
    {
     "name": "stderr",
     "output_type": "stream",
     "text": [
      "654it [00:00, 2413.35it/s]\n"
     ]
    },
    {
     "name": "stdout",
     "output_type": "stream",
     "text": [
      "\n"
     ]
    },
    {
     "name": "stderr",
     "output_type": "stream",
     "text": [
      "16065it [00:05, 3104.18it/s]\n"
     ]
    },
    {
     "name": "stdout",
     "output_type": "stream",
     "text": [
      "\n"
     ]
    },
    {
     "name": "stderr",
     "output_type": "stream",
     "text": [
      "133it [00:00, 3465.44it/s]\n"
     ]
    },
    {
     "name": "stdout",
     "output_type": "stream",
     "text": [
      "\n"
     ]
    },
    {
     "name": "stderr",
     "output_type": "stream",
     "text": [
      "82it [00:00, 3164.26it/s]\n"
     ]
    },
    {
     "name": "stdout",
     "output_type": "stream",
     "text": [
      "\n"
     ]
    },
    {
     "name": "stderr",
     "output_type": "stream",
     "text": [
      "1132it [00:00, 3720.83it/s]\n"
     ]
    },
    {
     "name": "stdout",
     "output_type": "stream",
     "text": [
      "\n"
     ]
    },
    {
     "name": "stderr",
     "output_type": "stream",
     "text": [
      "11336it [00:04, 2651.26it/s]\n"
     ]
    },
    {
     "name": "stdout",
     "output_type": "stream",
     "text": [
      "\n"
     ]
    },
    {
     "name": "stderr",
     "output_type": "stream",
     "text": [
      "1726it [00:00, 3384.16it/s]\n"
     ]
    },
    {
     "name": "stdout",
     "output_type": "stream",
     "text": [
      "\n"
     ]
    },
    {
     "name": "stderr",
     "output_type": "stream",
     "text": [
      "13980it [00:04, 3064.97it/s]\n"
     ]
    },
    {
     "name": "stdout",
     "output_type": "stream",
     "text": [
      "\n"
     ]
    },
    {
     "name": "stderr",
     "output_type": "stream",
     "text": [
      "1250it [00:00, 1528.78it/s]\n"
     ]
    },
    {
     "name": "stdout",
     "output_type": "stream",
     "text": [
      "\n"
     ]
    },
    {
     "name": "stderr",
     "output_type": "stream",
     "text": [
      "10it [00:00, 948.14it/s]\n"
     ]
    },
    {
     "name": "stdout",
     "output_type": "stream",
     "text": [
      "\n"
     ]
    },
    {
     "name": "stderr",
     "output_type": "stream",
     "text": [
      "5813it [00:04, 1354.35it/s]\n"
     ]
    },
    {
     "name": "stdout",
     "output_type": "stream",
     "text": [
      "\n"
     ]
    },
    {
     "name": "stderr",
     "output_type": "stream",
     "text": [
      "2906it [00:02, 1390.19it/s]"
     ]
    },
    {
     "name": "stdout",
     "output_type": "stream",
     "text": [
      "\n"
     ]
    },
    {
     "name": "stderr",
     "output_type": "stream",
     "text": [
      "\n"
     ]
    }
   ],
   "source": [
    "input_path=\"/mnt/c/Users/nkired/Documents/data-matching/tests/input_data\"\n",
    "output_path=\"/mnt/c/Users/nkired/Documents/data-matching/tests/output_data\"\n",
    "for file in os.listdir(input_path):\n",
    "    path_file=os.path.join(input_path,file)\n",
    "    if \"small\" in file:\n",
    "        get_edgelist(path_file, output_path)\n",
    "        "
   ]
  },
  {
   "cell_type": "code",
   "execution_count": 68,
   "metadata": {},
   "outputs": [],
   "source": [
    "# Load model directly\n",
    "from transformers import AutoTokenizer, AutoModelForSequenceClassification\n",
    "\n",
    "tokenizer = AutoTokenizer.from_pretrained(\"facebook/bart-large-mnli\")\n",
    "# model = AutoModelForSequenceClassification.from_pretrained(\"facebook/bart-large-mnli\")"
   ]
  },
  {
   "cell_type": "code",
   "execution_count": 69,
   "metadata": {},
   "outputs": [],
   "source": [
    "from transformers import BartConfig, BartModel\n",
    "\n",
    "# Initializing a BART facebook/bart-large style configuration\n",
    "configuration = BartConfig(d_model=16)\n",
    "\n",
    "# Initializing a model (with random weights) from the facebook/bart-large style configuration\n",
    "model = BartModel(configuration)\n",
    "\n",
    "# Accessing the model configuration\n",
    "configuration = model.config"
   ]
  },
  {
   "cell_type": "code",
   "execution_count": 72,
   "metadata": {},
   "outputs": [
    {
     "data": {
      "text/plain": [
       "array([[0.9521549]], dtype=float32)"
      ]
     },
     "execution_count": 72,
     "metadata": {},
     "output_type": "execute_result"
    }
   ],
   "source": [
    "import torch\n",
    "from sklearn.metrics.pairwise import cosine_similarity\n",
    "import numpy as np \n",
    "text=\"football\"  \n",
    "text2=\"breoherjnmvjenje\"  \n",
    "tokens2 = tokenizer.encode(text2, add_special_tokens=True)\n",
    "tokens = tokenizer.encode(text, add_special_tokens=True)\n",
    "input_ids = torch.tensor(tokens).unsqueeze(0) \n",
    "input_ids2 = torch.tensor(tokens2).unsqueeze(0) \n",
    "embeddings = model(input_ids)[0]\n",
    "embeddings2 = model(input_ids2)[0]\n",
    "s=np.array(list(embeddings.detach().numpy())[0][1]).reshape(1,-1)\n",
    "s2=np.array(list(embeddings2.detach().numpy())[0][1]).reshape(1,-1)\n",
    "cosine_similarity(s, s2)"
   ]
  },
  {
   "cell_type": "code",
   "execution_count": 73,
   "metadata": {},
   "outputs": [
    {
     "name": "stderr",
     "output_type": "stream",
     "text": [
      "(…)ings-v2-base-en/resolve/main/config.json: 100%|██████████| 1.18k/1.18k [00:00<00:00, 1.17MB/s]\n",
      "Explicitly passing a `revision` is encouraged when loading a configuration with custom code to ensure no malicious code has been contributed in a newer revision.\n",
      "Could not locate the jinaai/jina-bert-implementation--configuration_bert.py inside jinaai/jina-embeddings-v2-base-en.\n"
     ]
    },
    {
     "ename": "OSError",
     "evalue": "jinaai/jina-embeddings-v2-base-en does not appear to have a file named jinaai/jina-bert-implementation--configuration_bert.py. Checkout 'https://huggingface.co/jinaai/jina-embeddings-v2-base-en/main' for available files.",
     "output_type": "error",
     "traceback": [
      "\u001b[0;31m---------------------------------------------------------------------------\u001b[0m",
      "\u001b[0;31mHTTPError\u001b[0m                                 Traceback (most recent call last)",
      "File \u001b[0;32m~/.cache/pypoetry/virtualenvs/data-matching-1lo6pFQ1-py3.10/lib/python3.10/site-packages/huggingface_hub/utils/_errors.py:269\u001b[0m, in \u001b[0;36mhf_raise_for_status\u001b[0;34m(response, endpoint_name)\u001b[0m\n\u001b[1;32m    268\u001b[0m \u001b[39mtry\u001b[39;00m:\n\u001b[0;32m--> 269\u001b[0m     response\u001b[39m.\u001b[39;49mraise_for_status()\n\u001b[1;32m    270\u001b[0m \u001b[39mexcept\u001b[39;00m HTTPError \u001b[39mas\u001b[39;00m e:\n",
      "File \u001b[0;32m~/.cache/pypoetry/virtualenvs/data-matching-1lo6pFQ1-py3.10/lib/python3.10/site-packages/requests/models.py:1021\u001b[0m, in \u001b[0;36mResponse.raise_for_status\u001b[0;34m(self)\u001b[0m\n\u001b[1;32m   1020\u001b[0m \u001b[39mif\u001b[39;00m http_error_msg:\n\u001b[0;32m-> 1021\u001b[0m     \u001b[39mraise\u001b[39;00m HTTPError(http_error_msg, response\u001b[39m=\u001b[39m\u001b[39mself\u001b[39m)\n",
      "\u001b[0;31mHTTPError\u001b[0m: 404 Client Error: Not Found for url: https://huggingface.co/jinaai/jina-embeddings-v2-base-en/resolve/main/jinaai/jina-bert-implementation--configuration_bert.py",
      "\nThe above exception was the direct cause of the following exception:\n",
      "\u001b[0;31mEntryNotFoundError\u001b[0m                        Traceback (most recent call last)",
      "File \u001b[0;32m~/.cache/pypoetry/virtualenvs/data-matching-1lo6pFQ1-py3.10/lib/python3.10/site-packages/transformers/utils/hub.py:409\u001b[0m, in \u001b[0;36mcached_file\u001b[0;34m(path_or_repo_id, filename, cache_dir, force_download, resume_download, proxies, use_auth_token, revision, local_files_only, subfolder, user_agent, _raise_exceptions_for_missing_entries, _raise_exceptions_for_connection_errors, _commit_hash)\u001b[0m\n\u001b[1;32m    407\u001b[0m \u001b[39mtry\u001b[39;00m:\n\u001b[1;32m    408\u001b[0m     \u001b[39m# Load from URL or cache if already cached\u001b[39;00m\n\u001b[0;32m--> 409\u001b[0m     resolved_file \u001b[39m=\u001b[39m hf_hub_download(\n\u001b[1;32m    410\u001b[0m         path_or_repo_id,\n\u001b[1;32m    411\u001b[0m         filename,\n\u001b[1;32m    412\u001b[0m         subfolder\u001b[39m=\u001b[39;49m\u001b[39mNone\u001b[39;49;00m \u001b[39mif\u001b[39;49;00m \u001b[39mlen\u001b[39;49m(subfolder) \u001b[39m==\u001b[39;49m \u001b[39m0\u001b[39;49m \u001b[39melse\u001b[39;49;00m subfolder,\n\u001b[1;32m    413\u001b[0m         revision\u001b[39m=\u001b[39;49mrevision,\n\u001b[1;32m    414\u001b[0m         cache_dir\u001b[39m=\u001b[39;49mcache_dir,\n\u001b[1;32m    415\u001b[0m         user_agent\u001b[39m=\u001b[39;49muser_agent,\n\u001b[1;32m    416\u001b[0m         force_download\u001b[39m=\u001b[39;49mforce_download,\n\u001b[1;32m    417\u001b[0m         proxies\u001b[39m=\u001b[39;49mproxies,\n\u001b[1;32m    418\u001b[0m         resume_download\u001b[39m=\u001b[39;49mresume_download,\n\u001b[1;32m    419\u001b[0m         use_auth_token\u001b[39m=\u001b[39;49muse_auth_token,\n\u001b[1;32m    420\u001b[0m         local_files_only\u001b[39m=\u001b[39;49mlocal_files_only,\n\u001b[1;32m    421\u001b[0m     )\n\u001b[1;32m    423\u001b[0m \u001b[39mexcept\u001b[39;00m RepositoryNotFoundError:\n",
      "File \u001b[0;32m~/.cache/pypoetry/virtualenvs/data-matching-1lo6pFQ1-py3.10/lib/python3.10/site-packages/huggingface_hub/utils/_validators.py:118\u001b[0m, in \u001b[0;36mvalidate_hf_hub_args.<locals>._inner_fn\u001b[0;34m(*args, **kwargs)\u001b[0m\n\u001b[1;32m    116\u001b[0m     kwargs \u001b[39m=\u001b[39m smoothly_deprecate_use_auth_token(fn_name\u001b[39m=\u001b[39mfn\u001b[39m.\u001b[39m\u001b[39m__name__\u001b[39m, has_token\u001b[39m=\u001b[39mhas_token, kwargs\u001b[39m=\u001b[39mkwargs)\n\u001b[0;32m--> 118\u001b[0m \u001b[39mreturn\u001b[39;00m fn(\u001b[39m*\u001b[39;49margs, \u001b[39m*\u001b[39;49m\u001b[39m*\u001b[39;49mkwargs)\n",
      "File \u001b[0;32m~/.cache/pypoetry/virtualenvs/data-matching-1lo6pFQ1-py3.10/lib/python3.10/site-packages/huggingface_hub/file_download.py:1233\u001b[0m, in \u001b[0;36mhf_hub_download\u001b[0;34m(repo_id, filename, subfolder, repo_type, revision, endpoint, library_name, library_version, cache_dir, local_dir, local_dir_use_symlinks, user_agent, force_download, force_filename, proxies, etag_timeout, resume_download, token, local_files_only, legacy_cache_layout)\u001b[0m\n\u001b[1;32m   1232\u001b[0m \u001b[39mtry\u001b[39;00m:\n\u001b[0;32m-> 1233\u001b[0m     metadata \u001b[39m=\u001b[39m get_hf_file_metadata(\n\u001b[1;32m   1234\u001b[0m         url\u001b[39m=\u001b[39;49murl,\n\u001b[1;32m   1235\u001b[0m         token\u001b[39m=\u001b[39;49mtoken,\n\u001b[1;32m   1236\u001b[0m         proxies\u001b[39m=\u001b[39;49mproxies,\n\u001b[1;32m   1237\u001b[0m         timeout\u001b[39m=\u001b[39;49metag_timeout,\n\u001b[1;32m   1238\u001b[0m     )\n\u001b[1;32m   1239\u001b[0m \u001b[39mexcept\u001b[39;00m EntryNotFoundError \u001b[39mas\u001b[39;00m http_error:\n\u001b[1;32m   1240\u001b[0m     \u001b[39m# Cache the non-existence of the file and raise\u001b[39;00m\n",
      "File \u001b[0;32m~/.cache/pypoetry/virtualenvs/data-matching-1lo6pFQ1-py3.10/lib/python3.10/site-packages/huggingface_hub/utils/_validators.py:118\u001b[0m, in \u001b[0;36mvalidate_hf_hub_args.<locals>._inner_fn\u001b[0;34m(*args, **kwargs)\u001b[0m\n\u001b[1;32m    116\u001b[0m     kwargs \u001b[39m=\u001b[39m smoothly_deprecate_use_auth_token(fn_name\u001b[39m=\u001b[39mfn\u001b[39m.\u001b[39m\u001b[39m__name__\u001b[39m, has_token\u001b[39m=\u001b[39mhas_token, kwargs\u001b[39m=\u001b[39mkwargs)\n\u001b[0;32m--> 118\u001b[0m \u001b[39mreturn\u001b[39;00m fn(\u001b[39m*\u001b[39;49margs, \u001b[39m*\u001b[39;49m\u001b[39m*\u001b[39;49mkwargs)\n",
      "File \u001b[0;32m~/.cache/pypoetry/virtualenvs/data-matching-1lo6pFQ1-py3.10/lib/python3.10/site-packages/huggingface_hub/file_download.py:1622\u001b[0m, in \u001b[0;36mget_hf_file_metadata\u001b[0;34m(url, token, proxies, timeout)\u001b[0m\n\u001b[1;32m   1613\u001b[0m r \u001b[39m=\u001b[39m _request_wrapper(\n\u001b[1;32m   1614\u001b[0m     method\u001b[39m=\u001b[39m\u001b[39m\"\u001b[39m\u001b[39mHEAD\u001b[39m\u001b[39m\"\u001b[39m,\n\u001b[1;32m   1615\u001b[0m     url\u001b[39m=\u001b[39murl,\n\u001b[0;32m   (...)\u001b[0m\n\u001b[1;32m   1620\u001b[0m     timeout\u001b[39m=\u001b[39mtimeout,\n\u001b[1;32m   1621\u001b[0m )\n\u001b[0;32m-> 1622\u001b[0m hf_raise_for_status(r)\n\u001b[1;32m   1624\u001b[0m \u001b[39m# Return\u001b[39;00m\n",
      "File \u001b[0;32m~/.cache/pypoetry/virtualenvs/data-matching-1lo6pFQ1-py3.10/lib/python3.10/site-packages/huggingface_hub/utils/_errors.py:279\u001b[0m, in \u001b[0;36mhf_raise_for_status\u001b[0;34m(response, endpoint_name)\u001b[0m\n\u001b[1;32m    278\u001b[0m     message \u001b[39m=\u001b[39m \u001b[39mf\u001b[39m\u001b[39m\"\u001b[39m\u001b[39m{\u001b[39;00mresponse\u001b[39m.\u001b[39mstatus_code\u001b[39m}\u001b[39;00m\u001b[39m Client Error.\u001b[39m\u001b[39m\"\u001b[39m \u001b[39m+\u001b[39m \u001b[39m\"\u001b[39m\u001b[39m\\n\u001b[39;00m\u001b[39m\\n\u001b[39;00m\u001b[39m\"\u001b[39m \u001b[39m+\u001b[39m \u001b[39mf\u001b[39m\u001b[39m\"\u001b[39m\u001b[39mEntry Not Found for url: \u001b[39m\u001b[39m{\u001b[39;00mresponse\u001b[39m.\u001b[39murl\u001b[39m}\u001b[39;00m\u001b[39m.\u001b[39m\u001b[39m\"\u001b[39m\n\u001b[0;32m--> 279\u001b[0m     \u001b[39mraise\u001b[39;00m EntryNotFoundError(message, response) \u001b[39mfrom\u001b[39;00m \u001b[39me\u001b[39;00m\n\u001b[1;32m    281\u001b[0m \u001b[39melif\u001b[39;00m error_code \u001b[39m==\u001b[39m \u001b[39m\"\u001b[39m\u001b[39mGatedRepo\u001b[39m\u001b[39m\"\u001b[39m:\n",
      "\u001b[0;31mEntryNotFoundError\u001b[0m: 404 Client Error. (Request ID: Root=1-6541248a-507b6da76a580a682ed134dd;616ccb8f-dcfc-426d-a8dd-ab0be27c3be5)\n\nEntry Not Found for url: https://huggingface.co/jinaai/jina-embeddings-v2-base-en/resolve/main/jinaai/jina-bert-implementation--configuration_bert.py.",
      "\nDuring handling of the above exception, another exception occurred:\n",
      "\u001b[0;31mOSError\u001b[0m                                   Traceback (most recent call last)",
      "\u001b[1;32m/mnt/c/Users/nkired/Documents/data-matching/help_clean_repo.ipynb Cell 10\u001b[0m line \u001b[0;36m5\n\u001b[1;32m      <a href='vscode-notebook-cell://wsl%2Bubuntu-22.04/mnt/c/Users/nkired/Documents/data-matching/help_clean_repo.ipynb#X11sdnNjb2RlLXJlbW90ZQ%3D%3D?line=1'>2</a>\u001b[0m \u001b[39mfrom\u001b[39;00m \u001b[39mnumpy\u001b[39;00m\u001b[39m.\u001b[39;00m\u001b[39mlinalg\u001b[39;00m \u001b[39mimport\u001b[39;00m norm\n\u001b[1;32m      <a href='vscode-notebook-cell://wsl%2Bubuntu-22.04/mnt/c/Users/nkired/Documents/data-matching/help_clean_repo.ipynb#X11sdnNjb2RlLXJlbW90ZQ%3D%3D?line=3'>4</a>\u001b[0m cos_sim \u001b[39m=\u001b[39m \u001b[39mlambda\u001b[39;00m a,b: (a \u001b[39m@\u001b[39m b\u001b[39m.\u001b[39mT) \u001b[39m/\u001b[39m (norm(a)\u001b[39m*\u001b[39mnorm(b))\n\u001b[0;32m----> <a href='vscode-notebook-cell://wsl%2Bubuntu-22.04/mnt/c/Users/nkired/Documents/data-matching/help_clean_repo.ipynb#X11sdnNjb2RlLXJlbW90ZQ%3D%3D?line=4'>5</a>\u001b[0m model \u001b[39m=\u001b[39m AutoModel\u001b[39m.\u001b[39;49mfrom_pretrained(\u001b[39m'\u001b[39;49m\u001b[39mjinaai/jina-embeddings-v2-base-en\u001b[39;49m\u001b[39m'\u001b[39;49m, trust_remote_code\u001b[39m=\u001b[39;49m\u001b[39mTrue\u001b[39;49;00m) \u001b[39m# trust_remote_code is needed to use the encode method\u001b[39;00m\n\u001b[1;32m      <a href='vscode-notebook-cell://wsl%2Bubuntu-22.04/mnt/c/Users/nkired/Documents/data-matching/help_clean_repo.ipynb#X11sdnNjb2RlLXJlbW90ZQ%3D%3D?line=5'>6</a>\u001b[0m embeddings \u001b[39m=\u001b[39m model\u001b[39m.\u001b[39mencode([\u001b[39m'\u001b[39m\u001b[39mHow is the weather today?\u001b[39m\u001b[39m'\u001b[39m, \u001b[39m'\u001b[39m\u001b[39mWhat is the current weather like today?\u001b[39m\u001b[39m'\u001b[39m])\n\u001b[1;32m      <a href='vscode-notebook-cell://wsl%2Bubuntu-22.04/mnt/c/Users/nkired/Documents/data-matching/help_clean_repo.ipynb#X11sdnNjb2RlLXJlbW90ZQ%3D%3D?line=6'>7</a>\u001b[0m \u001b[39mprint\u001b[39m(cos_sim(embeddings[\u001b[39m0\u001b[39m], embeddings[\u001b[39m1\u001b[39m]))\n",
      "File \u001b[0;32m~/.cache/pypoetry/virtualenvs/data-matching-1lo6pFQ1-py3.10/lib/python3.10/site-packages/transformers/models/auto/auto_factory.py:434\u001b[0m, in \u001b[0;36m_BaseAutoModelClass.from_pretrained\u001b[0;34m(cls, pretrained_model_name_or_path, *model_args, **kwargs)\u001b[0m\n\u001b[1;32m    432\u001b[0m hub_kwargs \u001b[39m=\u001b[39m {name: kwargs\u001b[39m.\u001b[39mpop(name) \u001b[39mfor\u001b[39;00m name \u001b[39min\u001b[39;00m hub_kwargs_names \u001b[39mif\u001b[39;00m name \u001b[39min\u001b[39;00m kwargs}\n\u001b[1;32m    433\u001b[0m \u001b[39mif\u001b[39;00m \u001b[39mnot\u001b[39;00m \u001b[39misinstance\u001b[39m(config, PretrainedConfig):\n\u001b[0;32m--> 434\u001b[0m     config, kwargs \u001b[39m=\u001b[39m AutoConfig\u001b[39m.\u001b[39;49mfrom_pretrained(\n\u001b[1;32m    435\u001b[0m         pretrained_model_name_or_path,\n\u001b[1;32m    436\u001b[0m         return_unused_kwargs\u001b[39m=\u001b[39;49m\u001b[39mTrue\u001b[39;49;00m,\n\u001b[1;32m    437\u001b[0m         trust_remote_code\u001b[39m=\u001b[39;49mtrust_remote_code,\n\u001b[1;32m    438\u001b[0m         \u001b[39m*\u001b[39;49m\u001b[39m*\u001b[39;49mhub_kwargs,\n\u001b[1;32m    439\u001b[0m         \u001b[39m*\u001b[39;49m\u001b[39m*\u001b[39;49mkwargs,\n\u001b[1;32m    440\u001b[0m     )\n\u001b[1;32m    441\u001b[0m \u001b[39mif\u001b[39;00m \u001b[39mhasattr\u001b[39m(config, \u001b[39m\"\u001b[39m\u001b[39mauto_map\u001b[39m\u001b[39m\"\u001b[39m) \u001b[39mand\u001b[39;00m \u001b[39mcls\u001b[39m\u001b[39m.\u001b[39m\u001b[39m__name__\u001b[39m \u001b[39min\u001b[39;00m config\u001b[39m.\u001b[39mauto_map:\n\u001b[1;32m    442\u001b[0m     \u001b[39mif\u001b[39;00m \u001b[39mnot\u001b[39;00m trust_remote_code:\n",
      "File \u001b[0;32m~/.cache/pypoetry/virtualenvs/data-matching-1lo6pFQ1-py3.10/lib/python3.10/site-packages/transformers/models/auto/configuration_auto.py:867\u001b[0m, in \u001b[0;36mAutoConfig.from_pretrained\u001b[0;34m(cls, pretrained_model_name_or_path, **kwargs)\u001b[0m\n\u001b[1;32m    865\u001b[0m class_ref \u001b[39m=\u001b[39m config_dict[\u001b[39m\"\u001b[39m\u001b[39mauto_map\u001b[39m\u001b[39m\"\u001b[39m][\u001b[39m\"\u001b[39m\u001b[39mAutoConfig\u001b[39m\u001b[39m\"\u001b[39m]\n\u001b[1;32m    866\u001b[0m module_file, class_name \u001b[39m=\u001b[39m class_ref\u001b[39m.\u001b[39msplit(\u001b[39m\"\u001b[39m\u001b[39m.\u001b[39m\u001b[39m\"\u001b[39m)\n\u001b[0;32m--> 867\u001b[0m config_class \u001b[39m=\u001b[39m get_class_from_dynamic_module(\n\u001b[1;32m    868\u001b[0m     pretrained_model_name_or_path, module_file \u001b[39m+\u001b[39;49m \u001b[39m\"\u001b[39;49m\u001b[39m.py\u001b[39;49m\u001b[39m\"\u001b[39;49m, class_name, \u001b[39m*\u001b[39;49m\u001b[39m*\u001b[39;49mkwargs\n\u001b[1;32m    869\u001b[0m )\n\u001b[1;32m    870\u001b[0m config_class\u001b[39m.\u001b[39mregister_for_auto_class()\n\u001b[1;32m    871\u001b[0m \u001b[39mreturn\u001b[39;00m config_class\u001b[39m.\u001b[39mfrom_pretrained(pretrained_model_name_or_path, \u001b[39m*\u001b[39m\u001b[39m*\u001b[39mkwargs)\n",
      "File \u001b[0;32m~/.cache/pypoetry/virtualenvs/data-matching-1lo6pFQ1-py3.10/lib/python3.10/site-packages/transformers/dynamic_module_utils.py:363\u001b[0m, in \u001b[0;36mget_class_from_dynamic_module\u001b[0;34m(pretrained_model_name_or_path, module_file, class_name, cache_dir, force_download, resume_download, proxies, use_auth_token, revision, local_files_only, **kwargs)\u001b[0m\n\u001b[1;32m    301\u001b[0m \u001b[39m\u001b[39m\u001b[39m\"\"\"\u001b[39;00m\n\u001b[1;32m    302\u001b[0m \u001b[39mExtracts a class from a module file, present in the local folder or repository of a model.\u001b[39;00m\n\u001b[1;32m    303\u001b[0m \n\u001b[0;32m   (...)\u001b[0m\n\u001b[1;32m    360\u001b[0m \u001b[39mcls = get_class_from_dynamic_module(\"sgugger/my-bert-model\", \"modeling.py\", \"MyBertModel\")\u001b[39;00m\n\u001b[1;32m    361\u001b[0m \u001b[39m```\"\"\"\u001b[39;00m\n\u001b[1;32m    362\u001b[0m \u001b[39m# And lastly we get the class inside our newly created module\u001b[39;00m\n\u001b[0;32m--> 363\u001b[0m final_module \u001b[39m=\u001b[39m get_cached_module_file(\n\u001b[1;32m    364\u001b[0m     pretrained_model_name_or_path,\n\u001b[1;32m    365\u001b[0m     module_file,\n\u001b[1;32m    366\u001b[0m     cache_dir\u001b[39m=\u001b[39;49mcache_dir,\n\u001b[1;32m    367\u001b[0m     force_download\u001b[39m=\u001b[39;49mforce_download,\n\u001b[1;32m    368\u001b[0m     resume_download\u001b[39m=\u001b[39;49mresume_download,\n\u001b[1;32m    369\u001b[0m     proxies\u001b[39m=\u001b[39;49mproxies,\n\u001b[1;32m    370\u001b[0m     use_auth_token\u001b[39m=\u001b[39;49muse_auth_token,\n\u001b[1;32m    371\u001b[0m     revision\u001b[39m=\u001b[39;49mrevision,\n\u001b[1;32m    372\u001b[0m     local_files_only\u001b[39m=\u001b[39;49mlocal_files_only,\n\u001b[1;32m    373\u001b[0m )\n\u001b[1;32m    374\u001b[0m \u001b[39mreturn\u001b[39;00m get_class_in_module(class_name, final_module\u001b[39m.\u001b[39mreplace(\u001b[39m\"\u001b[39m\u001b[39m.py\u001b[39m\u001b[39m\"\u001b[39m, \u001b[39m\"\u001b[39m\u001b[39m\"\u001b[39m))\n",
      "File \u001b[0;32m~/.cache/pypoetry/virtualenvs/data-matching-1lo6pFQ1-py3.10/lib/python3.10/site-packages/transformers/dynamic_module_utils.py:221\u001b[0m, in \u001b[0;36mget_cached_module_file\u001b[0;34m(pretrained_model_name_or_path, module_file, cache_dir, force_download, resume_download, proxies, use_auth_token, revision, local_files_only)\u001b[0m\n\u001b[1;32m    217\u001b[0m     submodule \u001b[39m=\u001b[39m pretrained_model_name_or_path\u001b[39m.\u001b[39mreplace(\u001b[39m\"\u001b[39m\u001b[39m/\u001b[39m\u001b[39m\"\u001b[39m, os\u001b[39m.\u001b[39mpath\u001b[39m.\u001b[39msep)\n\u001b[1;32m    219\u001b[0m \u001b[39mtry\u001b[39;00m:\n\u001b[1;32m    220\u001b[0m     \u001b[39m# Load from URL or cache if already cached\u001b[39;00m\n\u001b[0;32m--> 221\u001b[0m     resolved_module_file \u001b[39m=\u001b[39m cached_file(\n\u001b[1;32m    222\u001b[0m         pretrained_model_name_or_path,\n\u001b[1;32m    223\u001b[0m         module_file,\n\u001b[1;32m    224\u001b[0m         cache_dir\u001b[39m=\u001b[39;49mcache_dir,\n\u001b[1;32m    225\u001b[0m         force_download\u001b[39m=\u001b[39;49mforce_download,\n\u001b[1;32m    226\u001b[0m         proxies\u001b[39m=\u001b[39;49mproxies,\n\u001b[1;32m    227\u001b[0m         resume_download\u001b[39m=\u001b[39;49mresume_download,\n\u001b[1;32m    228\u001b[0m         local_files_only\u001b[39m=\u001b[39;49mlocal_files_only,\n\u001b[1;32m    229\u001b[0m         use_auth_token\u001b[39m=\u001b[39;49muse_auth_token,\n\u001b[1;32m    230\u001b[0m     )\n\u001b[1;32m    232\u001b[0m \u001b[39mexcept\u001b[39;00m \u001b[39mEnvironmentError\u001b[39;00m:\n\u001b[1;32m    233\u001b[0m     logger\u001b[39m.\u001b[39merror(\u001b[39mf\u001b[39m\u001b[39m\"\u001b[39m\u001b[39mCould not locate the \u001b[39m\u001b[39m{\u001b[39;00mmodule_file\u001b[39m}\u001b[39;00m\u001b[39m inside \u001b[39m\u001b[39m{\u001b[39;00mpretrained_model_name_or_path\u001b[39m}\u001b[39;00m\u001b[39m.\u001b[39m\u001b[39m\"\u001b[39m)\n",
      "File \u001b[0;32m~/.cache/pypoetry/virtualenvs/data-matching-1lo6pFQ1-py3.10/lib/python3.10/site-packages/transformers/utils/hub.py:454\u001b[0m, in \u001b[0;36mcached_file\u001b[0;34m(path_or_repo_id, filename, cache_dir, force_download, resume_download, proxies, use_auth_token, revision, local_files_only, subfolder, user_agent, _raise_exceptions_for_missing_entries, _raise_exceptions_for_connection_errors, _commit_hash)\u001b[0m\n\u001b[1;32m    452\u001b[0m     \u001b[39mif\u001b[39;00m revision \u001b[39mis\u001b[39;00m \u001b[39mNone\u001b[39;00m:\n\u001b[1;32m    453\u001b[0m         revision \u001b[39m=\u001b[39m \u001b[39m\"\u001b[39m\u001b[39mmain\u001b[39m\u001b[39m\"\u001b[39m\n\u001b[0;32m--> 454\u001b[0m     \u001b[39mraise\u001b[39;00m \u001b[39mEnvironmentError\u001b[39;00m(\n\u001b[1;32m    455\u001b[0m         \u001b[39mf\u001b[39m\u001b[39m\"\u001b[39m\u001b[39m{\u001b[39;00mpath_or_repo_id\u001b[39m}\u001b[39;00m\u001b[39m does not appear to have a file named \u001b[39m\u001b[39m{\u001b[39;00mfull_filename\u001b[39m}\u001b[39;00m\u001b[39m. Checkout \u001b[39m\u001b[39m\"\u001b[39m\n\u001b[1;32m    456\u001b[0m         \u001b[39mf\u001b[39m\u001b[39m\"\u001b[39m\u001b[39m'\u001b[39m\u001b[39mhttps://huggingface.co/\u001b[39m\u001b[39m{\u001b[39;00mpath_or_repo_id\u001b[39m}\u001b[39;00m\u001b[39m/\u001b[39m\u001b[39m{\u001b[39;00mrevision\u001b[39m}\u001b[39;00m\u001b[39m'\u001b[39m\u001b[39m for available files.\u001b[39m\u001b[39m\"\u001b[39m\n\u001b[1;32m    457\u001b[0m     )\n\u001b[1;32m    458\u001b[0m \u001b[39mexcept\u001b[39;00m HTTPError \u001b[39mas\u001b[39;00m err:\n\u001b[1;32m    459\u001b[0m     \u001b[39m# First we try to see if we have a cached version (not up to date):\u001b[39;00m\n\u001b[1;32m    460\u001b[0m     resolved_file \u001b[39m=\u001b[39m try_to_load_from_cache(path_or_repo_id, full_filename, cache_dir\u001b[39m=\u001b[39mcache_dir, revision\u001b[39m=\u001b[39mrevision)\n",
      "\u001b[0;31mOSError\u001b[0m: jinaai/jina-embeddings-v2-base-en does not appear to have a file named jinaai/jina-bert-implementation--configuration_bert.py. Checkout 'https://huggingface.co/jinaai/jina-embeddings-v2-base-en/main' for available files."
     ]
    }
   ],
   "source": [
    "from transformers import AutoModel\n",
    "from numpy.linalg import norm\n",
    "\n",
    "cos_sim = lambda a,b: (a @ b.T) / (norm(a)*norm(b))\n",
    "model = AutoModel.from_pretrained('jinaai/jina-embeddings-v2-base-en', trust_remote_code=True) # trust_remote_code is needed to use the encode method\n",
    "embeddings = model.encode(['How is the weather today?', 'What is the current weather like today?'])\n",
    "print(cos_sim(embeddings[0], embeddings[1]))\n"
   ]
  },
  {
   "cell_type": "code",
   "execution_count": 74,
   "metadata": {},
   "outputs": [
    {
     "ename": "ModuleNotFoundError",
     "evalue": "No module named 'FlagEmbedding'",
     "output_type": "error",
     "traceback": [
      "\u001b[0;31m---------------------------------------------------------------------------\u001b[0m",
      "\u001b[0;31mModuleNotFoundError\u001b[0m                       Traceback (most recent call last)",
      "\u001b[1;32m/mnt/c/Users/nkired/Documents/data-matching/help_clean_repo.ipynb Cell 11\u001b[0m line \u001b[0;36m1\n\u001b[0;32m----> <a href='vscode-notebook-cell://wsl%2Bubuntu-22.04/mnt/c/Users/nkired/Documents/data-matching/help_clean_repo.ipynb#X13sdnNjb2RlLXJlbW90ZQ%3D%3D?line=0'>1</a>\u001b[0m \u001b[39mfrom\u001b[39;00m \u001b[39mFlagEmbedding\u001b[39;00m \u001b[39mimport\u001b[39;00m FlagModel\n\u001b[1;32m      <a href='vscode-notebook-cell://wsl%2Bubuntu-22.04/mnt/c/Users/nkired/Documents/data-matching/help_clean_repo.ipynb#X13sdnNjb2RlLXJlbW90ZQ%3D%3D?line=1'>2</a>\u001b[0m sentences_1 \u001b[39m=\u001b[39m [\u001b[39m\"\u001b[39m\u001b[39m样例数据-1\u001b[39m\u001b[39m\"\u001b[39m, \u001b[39m\"\u001b[39m\u001b[39m样例数据-2\u001b[39m\u001b[39m\"\u001b[39m]\n\u001b[1;32m      <a href='vscode-notebook-cell://wsl%2Bubuntu-22.04/mnt/c/Users/nkired/Documents/data-matching/help_clean_repo.ipynb#X13sdnNjb2RlLXJlbW90ZQ%3D%3D?line=2'>3</a>\u001b[0m sentences_2 \u001b[39m=\u001b[39m [\u001b[39m\"\u001b[39m\u001b[39m样例数据-3\u001b[39m\u001b[39m\"\u001b[39m, \u001b[39m\"\u001b[39m\u001b[39m样例数据-4\u001b[39m\u001b[39m\"\u001b[39m]\n",
      "\u001b[0;31mModuleNotFoundError\u001b[0m: No module named 'FlagEmbedding'"
     ]
    }
   ],
   "source": [
    "from FlagEmbedding import FlagModel\n",
    "sentences_1 = [\"heey my name is Nour\"]\n",
    "sentences_2 = [\"name\"]\n",
    "model = FlagModel('BAAI/bge-large-zh-v1.5', \n",
    "                  query_instruction_for_retrieval=\"为这个句子生成表示以用于检索相关文章：\",\n",
    "                  use_fp16=True) # Setting use_fp16 to True speeds up computation with a slight performance degradation\n",
    "embeddings_1 = model.encode(sentences_1)\n",
    "embeddings_2 = model.encode(sentences_2)\n",
    "similarity = embeddings_1 @ embeddings_2.T\n",
    "print(similarity)\n",
    "\n",
    "# for s2p(short query to long passage) retrieval task, suggest to use encode_queries() which will automatically add the instruction to each query\n",
    "# corpus in retrieval task can still use encode() or encode_corpus(), since they don't need instruction\n",
    "queries = ['query_1', 'query_2']\n",
    "passages = [\"样例文档-1\", \"样例文档-2\"]\n",
    "q_embeddings = model.encode_queries(queries)\n",
    "p_embeddings = model.encode(passages)\n",
    "scores = q_embeddings @ p_embeddings.T\n"
   ]
  },
  {
   "cell_type": "code",
   "execution_count": 75,
   "metadata": {},
   "outputs": [
    {
     "name": "stdout",
     "output_type": "stream",
     "text": [
      "huggingface/tokenizers: The current process just got forked, after parallelism has already been used. Disabling parallelism to avoid deadlocks...\n",
      "To disable this warning, you can either:\n",
      "\t- Avoid using `tokenizers` before the fork if possible\n",
      "\t- Explicitly set the environment variable TOKENIZERS_PARALLELISM=(true | false)\n",
      "Collecting FlagEmbedding\n",
      "  Downloading FlagEmbedding-1.1.4.tar.gz (38 kB)\n",
      "  Preparing metadata (setup.py) ... \u001b[?25ldone\n",
      "\u001b[?25hRequirement already satisfied: torch>=1.6.0 in /home/nkired/.cache/pypoetry/virtualenvs/data-matching-1lo6pFQ1-py3.10/lib/python3.10/site-packages (from FlagEmbedding) (2.0.0)\n",
      "Requirement already satisfied: transformers>=4.18.0 in /home/nkired/.cache/pypoetry/virtualenvs/data-matching-1lo6pFQ1-py3.10/lib/python3.10/site-packages (from FlagEmbedding) (4.26.0)\n",
      "Collecting datasets (from FlagEmbedding)\n",
      "  Obtaining dependency information for datasets from https://files.pythonhosted.org/packages/7c/55/b3432f43d6d7fee999bb23a547820d74c48ec540f5f7842e41aa5d8d5f3a/datasets-2.14.6-py3-none-any.whl.metadata\n",
      "  Downloading datasets-2.14.6-py3-none-any.whl.metadata (19 kB)\n",
      "Collecting accelerate>=0.20.1 (from FlagEmbedding)\n",
      "  Obtaining dependency information for accelerate>=0.20.1 from https://files.pythonhosted.org/packages/13/9e/ee987874058f2d93006961f6ff49e0bcb60ab9c26709ebe06bfa8707a4d8/accelerate-0.24.1-py3-none-any.whl.metadata\n",
      "  Downloading accelerate-0.24.1-py3-none-any.whl.metadata (18 kB)\n",
      "Collecting sentence_transformers (from FlagEmbedding)\n",
      "  Downloading sentence-transformers-2.2.2.tar.gz (85 kB)\n",
      "\u001b[2K     \u001b[90m━━━━━━━━━━━━━━━━━━━━━━━━━━━━━━━━━━━━━━━━\u001b[0m \u001b[32m86.0/86.0 kB\u001b[0m \u001b[31m2.8 MB/s\u001b[0m eta \u001b[36m0:00:00\u001b[0m\n",
      "\u001b[?25h  Preparing metadata (setup.py) ... \u001b[?25ldone\n",
      "\u001b[?25hRequirement already satisfied: numpy>=1.17 in /home/nkired/.cache/pypoetry/virtualenvs/data-matching-1lo6pFQ1-py3.10/lib/python3.10/site-packages (from accelerate>=0.20.1->FlagEmbedding) (1.24.2)\n",
      "Requirement already satisfied: packaging>=20.0 in /home/nkired/.cache/pypoetry/virtualenvs/data-matching-1lo6pFQ1-py3.10/lib/python3.10/site-packages (from accelerate>=0.20.1->FlagEmbedding) (23.2)\n",
      "Requirement already satisfied: psutil in /home/nkired/.cache/pypoetry/virtualenvs/data-matching-1lo6pFQ1-py3.10/lib/python3.10/site-packages (from accelerate>=0.20.1->FlagEmbedding) (5.9.6)\n",
      "Requirement already satisfied: pyyaml in /home/nkired/.cache/pypoetry/virtualenvs/data-matching-1lo6pFQ1-py3.10/lib/python3.10/site-packages (from accelerate>=0.20.1->FlagEmbedding) (6.0.1)\n",
      "Requirement already satisfied: huggingface-hub in /home/nkired/.cache/pypoetry/virtualenvs/data-matching-1lo6pFQ1-py3.10/lib/python3.10/site-packages (from accelerate>=0.20.1->FlagEmbedding) (0.18.0)\n",
      "Requirement already satisfied: filelock in /home/nkired/.cache/pypoetry/virtualenvs/data-matching-1lo6pFQ1-py3.10/lib/python3.10/site-packages (from torch>=1.6.0->FlagEmbedding) (3.13.1)\n",
      "Requirement already satisfied: typing-extensions in /home/nkired/.cache/pypoetry/virtualenvs/data-matching-1lo6pFQ1-py3.10/lib/python3.10/site-packages (from torch>=1.6.0->FlagEmbedding) (4.8.0)\n",
      "Requirement already satisfied: sympy in /home/nkired/.cache/pypoetry/virtualenvs/data-matching-1lo6pFQ1-py3.10/lib/python3.10/site-packages (from torch>=1.6.0->FlagEmbedding) (1.12)\n",
      "Requirement already satisfied: networkx in /home/nkired/.cache/pypoetry/virtualenvs/data-matching-1lo6pFQ1-py3.10/lib/python3.10/site-packages (from torch>=1.6.0->FlagEmbedding) (3.2.1)\n",
      "Requirement already satisfied: jinja2 in /home/nkired/.cache/pypoetry/virtualenvs/data-matching-1lo6pFQ1-py3.10/lib/python3.10/site-packages (from torch>=1.6.0->FlagEmbedding) (3.1.2)\n",
      "Requirement already satisfied: nvidia-cuda-nvrtc-cu11==11.7.99 in /home/nkired/.cache/pypoetry/virtualenvs/data-matching-1lo6pFQ1-py3.10/lib/python3.10/site-packages (from torch>=1.6.0->FlagEmbedding) (11.7.99)\n",
      "Requirement already satisfied: nvidia-cuda-runtime-cu11==11.7.99 in /home/nkired/.cache/pypoetry/virtualenvs/data-matching-1lo6pFQ1-py3.10/lib/python3.10/site-packages (from torch>=1.6.0->FlagEmbedding) (11.7.99)\n",
      "Requirement already satisfied: nvidia-cuda-cupti-cu11==11.7.101 in /home/nkired/.cache/pypoetry/virtualenvs/data-matching-1lo6pFQ1-py3.10/lib/python3.10/site-packages (from torch>=1.6.0->FlagEmbedding) (11.7.101)\n",
      "Requirement already satisfied: nvidia-cudnn-cu11==8.5.0.96 in /home/nkired/.cache/pypoetry/virtualenvs/data-matching-1lo6pFQ1-py3.10/lib/python3.10/site-packages (from torch>=1.6.0->FlagEmbedding) (8.5.0.96)\n",
      "Requirement already satisfied: nvidia-cublas-cu11==11.10.3.66 in /home/nkired/.cache/pypoetry/virtualenvs/data-matching-1lo6pFQ1-py3.10/lib/python3.10/site-packages (from torch>=1.6.0->FlagEmbedding) (11.10.3.66)\n",
      "Requirement already satisfied: nvidia-cufft-cu11==10.9.0.58 in /home/nkired/.cache/pypoetry/virtualenvs/data-matching-1lo6pFQ1-py3.10/lib/python3.10/site-packages (from torch>=1.6.0->FlagEmbedding) (10.9.0.58)\n",
      "Requirement already satisfied: nvidia-curand-cu11==10.2.10.91 in /home/nkired/.cache/pypoetry/virtualenvs/data-matching-1lo6pFQ1-py3.10/lib/python3.10/site-packages (from torch>=1.6.0->FlagEmbedding) (10.2.10.91)\n",
      "Requirement already satisfied: nvidia-cusolver-cu11==11.4.0.1 in /home/nkired/.cache/pypoetry/virtualenvs/data-matching-1lo6pFQ1-py3.10/lib/python3.10/site-packages (from torch>=1.6.0->FlagEmbedding) (11.4.0.1)\n",
      "Requirement already satisfied: nvidia-cusparse-cu11==11.7.4.91 in /home/nkired/.cache/pypoetry/virtualenvs/data-matching-1lo6pFQ1-py3.10/lib/python3.10/site-packages (from torch>=1.6.0->FlagEmbedding) (11.7.4.91)\n",
      "Requirement already satisfied: nvidia-nccl-cu11==2.14.3 in /home/nkired/.cache/pypoetry/virtualenvs/data-matching-1lo6pFQ1-py3.10/lib/python3.10/site-packages (from torch>=1.6.0->FlagEmbedding) (2.14.3)\n",
      "Requirement already satisfied: nvidia-nvtx-cu11==11.7.91 in /home/nkired/.cache/pypoetry/virtualenvs/data-matching-1lo6pFQ1-py3.10/lib/python3.10/site-packages (from torch>=1.6.0->FlagEmbedding) (11.7.91)\n",
      "Requirement already satisfied: triton==2.0.0 in /home/nkired/.cache/pypoetry/virtualenvs/data-matching-1lo6pFQ1-py3.10/lib/python3.10/site-packages (from torch>=1.6.0->FlagEmbedding) (2.0.0)\n",
      "Requirement already satisfied: setuptools in /home/nkired/.cache/pypoetry/virtualenvs/data-matching-1lo6pFQ1-py3.10/lib/python3.10/site-packages (from nvidia-cublas-cu11==11.10.3.66->torch>=1.6.0->FlagEmbedding) (68.2.2)\n",
      "Requirement already satisfied: wheel in /home/nkired/.cache/pypoetry/virtualenvs/data-matching-1lo6pFQ1-py3.10/lib/python3.10/site-packages (from nvidia-cublas-cu11==11.10.3.66->torch>=1.6.0->FlagEmbedding) (0.41.3)\n",
      "Requirement already satisfied: cmake in /home/nkired/.cache/pypoetry/virtualenvs/data-matching-1lo6pFQ1-py3.10/lib/python3.10/site-packages (from triton==2.0.0->torch>=1.6.0->FlagEmbedding) (3.27.7)\n",
      "Requirement already satisfied: lit in /home/nkired/.cache/pypoetry/virtualenvs/data-matching-1lo6pFQ1-py3.10/lib/python3.10/site-packages (from triton==2.0.0->torch>=1.6.0->FlagEmbedding) (17.0.4)\n",
      "Requirement already satisfied: regex!=2019.12.17 in /home/nkired/.cache/pypoetry/virtualenvs/data-matching-1lo6pFQ1-py3.10/lib/python3.10/site-packages (from transformers>=4.18.0->FlagEmbedding) (2023.10.3)\n",
      "Requirement already satisfied: requests in /home/nkired/.cache/pypoetry/virtualenvs/data-matching-1lo6pFQ1-py3.10/lib/python3.10/site-packages (from transformers>=4.18.0->FlagEmbedding) (2.31.0)\n",
      "Requirement already satisfied: tokenizers!=0.11.3,<0.14,>=0.11.1 in /home/nkired/.cache/pypoetry/virtualenvs/data-matching-1lo6pFQ1-py3.10/lib/python3.10/site-packages (from transformers>=4.18.0->FlagEmbedding) (0.13.3)\n",
      "Requirement already satisfied: tqdm>=4.27 in /home/nkired/.cache/pypoetry/virtualenvs/data-matching-1lo6pFQ1-py3.10/lib/python3.10/site-packages (from transformers>=4.18.0->FlagEmbedding) (4.66.1)\n",
      "Collecting pyarrow>=8.0.0 (from datasets->FlagEmbedding)\n",
      "  Obtaining dependency information for pyarrow>=8.0.0 from https://files.pythonhosted.org/packages/a1/14/4ffed5e85b96f0c0ae9e026f940bf71ac7dfbfbffff9f3fe339e32bfce2c/pyarrow-13.0.0-cp310-cp310-manylinux_2_28_x86_64.whl.metadata\n",
      "  Downloading pyarrow-13.0.0-cp310-cp310-manylinux_2_28_x86_64.whl.metadata (3.0 kB)\n",
      "Collecting dill<0.3.8,>=0.3.0 (from datasets->FlagEmbedding)\n",
      "  Obtaining dependency information for dill<0.3.8,>=0.3.0 from https://files.pythonhosted.org/packages/f5/3a/74a29b11cf2cdfcd6ba89c0cecd70b37cd1ba7b77978ce611eb7a146a832/dill-0.3.7-py3-none-any.whl.metadata\n",
      "  Downloading dill-0.3.7-py3-none-any.whl.metadata (9.9 kB)\n",
      "Requirement already satisfied: pandas in /home/nkired/.cache/pypoetry/virtualenvs/data-matching-1lo6pFQ1-py3.10/lib/python3.10/site-packages (from datasets->FlagEmbedding) (2.0.1)\n",
      "Collecting xxhash (from datasets->FlagEmbedding)\n",
      "  Obtaining dependency information for xxhash from https://files.pythonhosted.org/packages/80/8a/1dd41557883b6196f8f092011a5c1f72d4d44cf36d7b67d4a5efe3127949/xxhash-3.4.1-cp310-cp310-manylinux_2_17_x86_64.manylinux2014_x86_64.whl.metadata\n",
      "  Downloading xxhash-3.4.1-cp310-cp310-manylinux_2_17_x86_64.manylinux2014_x86_64.whl.metadata (12 kB)\n",
      "Collecting multiprocess (from datasets->FlagEmbedding)\n",
      "  Obtaining dependency information for multiprocess from https://files.pythonhosted.org/packages/35/a8/36d8d7b3e46b377800d8dec47891cdf05842d1a2366909ae4a0c89fbc5e6/multiprocess-0.70.15-py310-none-any.whl.metadata\n",
      "  Downloading multiprocess-0.70.15-py310-none-any.whl.metadata (7.2 kB)\n",
      "Requirement already satisfied: fsspec[http]<=2023.10.0,>=2023.1.0 in /home/nkired/.cache/pypoetry/virtualenvs/data-matching-1lo6pFQ1-py3.10/lib/python3.10/site-packages (from datasets->FlagEmbedding) (2023.10.0)\n",
      "Collecting aiohttp (from datasets->FlagEmbedding)\n",
      "  Obtaining dependency information for aiohttp from https://files.pythonhosted.org/packages/41/8e/4c48881316bbced3d13089c4d0df4be321ce79a0c695d82dee9996aaf56b/aiohttp-3.8.6-cp310-cp310-manylinux_2_17_x86_64.manylinux2014_x86_64.whl.metadata\n",
      "  Downloading aiohttp-3.8.6-cp310-cp310-manylinux_2_17_x86_64.manylinux2014_x86_64.whl.metadata (7.7 kB)\n",
      "Collecting torchvision (from sentence_transformers->FlagEmbedding)\n",
      "  Obtaining dependency information for torchvision from https://files.pythonhosted.org/packages/84/eb/4f6483ae9094e164dc5b9b792e377f7d37823b0bedc3eef3193d416d2bb6/torchvision-0.16.0-cp310-cp310-manylinux1_x86_64.whl.metadata\n",
      "  Downloading torchvision-0.16.0-cp310-cp310-manylinux1_x86_64.whl.metadata (6.6 kB)\n",
      "Requirement already satisfied: scikit-learn in /home/nkired/.cache/pypoetry/virtualenvs/data-matching-1lo6pFQ1-py3.10/lib/python3.10/site-packages (from sentence_transformers->FlagEmbedding) (1.3.2)\n",
      "Requirement already satisfied: scipy in /home/nkired/.cache/pypoetry/virtualenvs/data-matching-1lo6pFQ1-py3.10/lib/python3.10/site-packages (from sentence_transformers->FlagEmbedding) (1.9.3)\n",
      "Collecting nltk (from sentence_transformers->FlagEmbedding)\n",
      "  Downloading nltk-3.8.1-py3-none-any.whl (1.5 MB)\n",
      "\u001b[2K     \u001b[90m━━━━━━━━━━━━━━━━━━━━━━━━━━━━━━━━━━━━━━━━\u001b[0m \u001b[32m1.5/1.5 MB\u001b[0m \u001b[31m8.3 MB/s\u001b[0m eta \u001b[36m0:00:00\u001b[0ma \u001b[36m0:00:01\u001b[0m\n",
      "\u001b[?25hCollecting sentencepiece (from sentence_transformers->FlagEmbedding)\n",
      "  Downloading sentencepiece-0.1.99-cp310-cp310-manylinux_2_17_x86_64.manylinux2014_x86_64.whl (1.3 MB)\n",
      "\u001b[2K     \u001b[90m━━━━━━━━━━━━━━━━━━━━━━━━━━━━━━━━━━━━━━━━\u001b[0m \u001b[32m1.3/1.3 MB\u001b[0m \u001b[31m8.0 MB/s\u001b[0m eta \u001b[36m0:00:00\u001b[0ma \u001b[36m0:00:01\u001b[0mm\n",
      "\u001b[?25hRequirement already satisfied: attrs>=17.3.0 in /home/nkired/.cache/pypoetry/virtualenvs/data-matching-1lo6pFQ1-py3.10/lib/python3.10/site-packages (from aiohttp->datasets->FlagEmbedding) (23.1.0)\n",
      "Requirement already satisfied: charset-normalizer<4.0,>=2.0 in /home/nkired/.cache/pypoetry/virtualenvs/data-matching-1lo6pFQ1-py3.10/lib/python3.10/site-packages (from aiohttp->datasets->FlagEmbedding) (3.3.1)\n",
      "Collecting multidict<7.0,>=4.5 (from aiohttp->datasets->FlagEmbedding)\n",
      "  Downloading multidict-6.0.4-cp310-cp310-manylinux_2_17_x86_64.manylinux2014_x86_64.whl (114 kB)\n",
      "\u001b[2K     \u001b[90m━━━━━━━━━━━━━━━━━━━━━━━━━━━━━━━━━━━━━━━\u001b[0m \u001b[32m114.5/114.5 kB\u001b[0m \u001b[31m6.6 MB/s\u001b[0m eta \u001b[36m0:00:00\u001b[0m\n",
      "\u001b[?25hCollecting async-timeout<5.0,>=4.0.0a3 (from aiohttp->datasets->FlagEmbedding)\n",
      "  Obtaining dependency information for async-timeout<5.0,>=4.0.0a3 from https://files.pythonhosted.org/packages/a7/fa/e01228c2938de91d47b307831c62ab9e4001e747789d0b05baf779a6488c/async_timeout-4.0.3-py3-none-any.whl.metadata\n",
      "  Downloading async_timeout-4.0.3-py3-none-any.whl.metadata (4.2 kB)\n",
      "Collecting yarl<2.0,>=1.0 (from aiohttp->datasets->FlagEmbedding)\n",
      "  Downloading yarl-1.9.2-cp310-cp310-manylinux_2_17_x86_64.manylinux2014_x86_64.whl (268 kB)\n",
      "\u001b[2K     \u001b[90m━━━━━━━━━━━━━━━━━━━━━━━━━━━━━━━━━━━━━━━\u001b[0m \u001b[32m268.8/268.8 kB\u001b[0m \u001b[31m4.6 MB/s\u001b[0m eta \u001b[36m0:00:00\u001b[0ma \u001b[36m0:00:01\u001b[0m\n",
      "\u001b[?25hCollecting frozenlist>=1.1.1 (from aiohttp->datasets->FlagEmbedding)\n",
      "  Obtaining dependency information for frozenlist>=1.1.1 from https://files.pythonhosted.org/packages/1e/28/74b8b6451c89c070d34e753d8b65a1e4ce508a6808b18529f36e8c0e2184/frozenlist-1.4.0-cp310-cp310-manylinux_2_5_x86_64.manylinux1_x86_64.manylinux_2_17_x86_64.manylinux2014_x86_64.whl.metadata\n",
      "  Downloading frozenlist-1.4.0-cp310-cp310-manylinux_2_5_x86_64.manylinux1_x86_64.manylinux_2_17_x86_64.manylinux2014_x86_64.whl.metadata (5.2 kB)\n",
      "Collecting aiosignal>=1.1.2 (from aiohttp->datasets->FlagEmbedding)\n",
      "  Downloading aiosignal-1.3.1-py3-none-any.whl (7.6 kB)\n",
      "Requirement already satisfied: idna<4,>=2.5 in /home/nkired/.cache/pypoetry/virtualenvs/data-matching-1lo6pFQ1-py3.10/lib/python3.10/site-packages (from requests->transformers>=4.18.0->FlagEmbedding) (3.4)\n",
      "Requirement already satisfied: urllib3<3,>=1.21.1 in /home/nkired/.cache/pypoetry/virtualenvs/data-matching-1lo6pFQ1-py3.10/lib/python3.10/site-packages (from requests->transformers>=4.18.0->FlagEmbedding) (2.0.7)\n",
      "Requirement already satisfied: certifi>=2017.4.17 in /home/nkired/.cache/pypoetry/virtualenvs/data-matching-1lo6pFQ1-py3.10/lib/python3.10/site-packages (from requests->transformers>=4.18.0->FlagEmbedding) (2023.7.22)\n",
      "Requirement already satisfied: MarkupSafe>=2.0 in /home/nkired/.cache/pypoetry/virtualenvs/data-matching-1lo6pFQ1-py3.10/lib/python3.10/site-packages (from jinja2->torch>=1.6.0->FlagEmbedding) (2.1.3)\n",
      "Requirement already satisfied: click in /home/nkired/.cache/pypoetry/virtualenvs/data-matching-1lo6pFQ1-py3.10/lib/python3.10/site-packages (from nltk->sentence_transformers->FlagEmbedding) (8.1.7)\n",
      "Requirement already satisfied: joblib in /home/nkired/.cache/pypoetry/virtualenvs/data-matching-1lo6pFQ1-py3.10/lib/python3.10/site-packages (from nltk->sentence_transformers->FlagEmbedding) (1.3.2)\n",
      "Requirement already satisfied: python-dateutil>=2.8.2 in /home/nkired/.cache/pypoetry/virtualenvs/data-matching-1lo6pFQ1-py3.10/lib/python3.10/site-packages (from pandas->datasets->FlagEmbedding) (2.8.2)\n",
      "Requirement already satisfied: pytz>=2020.1 in /home/nkired/.cache/pypoetry/virtualenvs/data-matching-1lo6pFQ1-py3.10/lib/python3.10/site-packages (from pandas->datasets->FlagEmbedding) (2023.3.post1)\n",
      "Requirement already satisfied: tzdata>=2022.1 in /home/nkired/.cache/pypoetry/virtualenvs/data-matching-1lo6pFQ1-py3.10/lib/python3.10/site-packages (from pandas->datasets->FlagEmbedding) (2023.3)\n",
      "Requirement already satisfied: threadpoolctl>=2.0.0 in /home/nkired/.cache/pypoetry/virtualenvs/data-matching-1lo6pFQ1-py3.10/lib/python3.10/site-packages (from scikit-learn->sentence_transformers->FlagEmbedding) (3.2.0)\n",
      "Requirement already satisfied: mpmath>=0.19 in /home/nkired/.cache/pypoetry/virtualenvs/data-matching-1lo6pFQ1-py3.10/lib/python3.10/site-packages (from sympy->torch>=1.6.0->FlagEmbedding) (1.3.0)\n",
      "Collecting torch>=1.6.0 (from FlagEmbedding)\n",
      "  Obtaining dependency information for torch>=1.6.0 from https://files.pythonhosted.org/packages/6d/13/b5e8bacd980b2195f8a1741ce11cbb9146568607795d5e4ff510dcff1064/torch-2.1.0-cp310-cp310-manylinux1_x86_64.whl.metadata\n",
      "  Downloading torch-2.1.0-cp310-cp310-manylinux1_x86_64.whl.metadata (25 kB)\n",
      "Collecting pillow!=8.3.*,>=5.3.0 (from torchvision->sentence_transformers->FlagEmbedding)\n",
      "  Obtaining dependency information for pillow!=8.3.*,>=5.3.0 from https://files.pythonhosted.org/packages/e5/b9/5c6ad3241f1ccca4b781dfeddbab2dac4480f95aedc351a0e60c9f4c8aa9/Pillow-10.1.0-cp310-cp310-manylinux_2_28_x86_64.whl.metadata\n",
      "  Downloading Pillow-10.1.0-cp310-cp310-manylinux_2_28_x86_64.whl.metadata (9.5 kB)\n",
      "Collecting nvidia-cuda-nvrtc-cu12==12.1.105 (from torch>=1.6.0->FlagEmbedding)\n",
      "  Downloading nvidia_cuda_nvrtc_cu12-12.1.105-py3-none-manylinux1_x86_64.whl (23.7 MB)\n",
      "\u001b[2K     \u001b[90m━━━━━━━━━━━━━━━━━━━━━━━━━━━━━━━━━━━━━━━━\u001b[0m \u001b[32m23.7/23.7 MB\u001b[0m \u001b[31m7.6 MB/s\u001b[0m eta \u001b[36m0:00:00\u001b[0m00:01\u001b[0m00:01\u001b[0m\n",
      "\u001b[?25hCollecting nvidia-cuda-runtime-cu12==12.1.105 (from torch>=1.6.0->FlagEmbedding)\n",
      "  Downloading nvidia_cuda_runtime_cu12-12.1.105-py3-none-manylinux1_x86_64.whl (823 kB)\n",
      "\u001b[2K     \u001b[90m━━━━━━━━━━━━━━━━━━━━━━━━━━━━━━━━━━━━━━━\u001b[0m \u001b[32m823.6/823.6 kB\u001b[0m \u001b[31m8.9 MB/s\u001b[0m eta \u001b[36m0:00:00\u001b[0ma \u001b[36m0:00:01\u001b[0m\n",
      "\u001b[?25hCollecting nvidia-cuda-cupti-cu12==12.1.105 (from torch>=1.6.0->FlagEmbedding)\n",
      "  Downloading nvidia_cuda_cupti_cu12-12.1.105-py3-none-manylinux1_x86_64.whl (14.1 MB)\n",
      "\u001b[2K     \u001b[90m━━━━━━━━━━━━━━━━━━━━━━━━━━━━━━━━━━━━━━━━\u001b[0m \u001b[32m14.1/14.1 MB\u001b[0m \u001b[31m10.8 MB/s\u001b[0m eta \u001b[36m0:00:00\u001b[0m00:01\u001b[0m00:01\u001b[0m\n",
      "\u001b[?25hCollecting nvidia-cudnn-cu12==8.9.2.26 (from torch>=1.6.0->FlagEmbedding)\n",
      "  Obtaining dependency information for nvidia-cudnn-cu12==8.9.2.26 from https://files.pythonhosted.org/packages/ff/74/a2e2be7fb83aaedec84f391f082cf765dfb635e7caa9b49065f73e4835d8/nvidia_cudnn_cu12-8.9.2.26-py3-none-manylinux1_x86_64.whl.metadata\n",
      "  Downloading nvidia_cudnn_cu12-8.9.2.26-py3-none-manylinux1_x86_64.whl.metadata (1.6 kB)\n",
      "Collecting nvidia-cublas-cu12==12.1.3.1 (from torch>=1.6.0->FlagEmbedding)\n",
      "  Downloading nvidia_cublas_cu12-12.1.3.1-py3-none-manylinux1_x86_64.whl (410.6 MB)\n",
      "\u001b[2K     \u001b[90m━━━━━━━━━━━━━━━━━━━━━━━━━━━━━━━━━━━━━━━━\u001b[0m \u001b[32m0.4/410.6 MB\u001b[0m \u001b[31m16.3 MB/s\u001b[0m eta \u001b[36m0:00:26\u001b[0m"
     ]
    }
   ],
   "source": [
    "pip install FlagEmbedding"
   ]
  },
  {
   "cell_type": "code",
   "execution_count": null,
   "metadata": {},
   "outputs": [],
   "source": []
  }
 ],
 "metadata": {
  "kernelspec": {
   "display_name": "valentine-QYSSi5FB-py3.10",
   "language": "python",
   "name": "python3"
  },
  "language_info": {
   "codemirror_mode": {
    "name": "ipython",
    "version": 3
   },
   "file_extension": ".py",
   "mimetype": "text/x-python",
   "name": "python",
   "nbconvert_exporter": "python",
   "pygments_lexer": "ipython3",
   "version": "3.10.12"
  }
 },
 "nbformat": 4,
 "nbformat_minor": 2
}
