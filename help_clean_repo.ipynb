{
 "cells": [
  {
   "cell_type": "code",
   "execution_count": 3,
   "metadata": {},
   "outputs": [],
   "source": [
    "import pandas as pd\n",
    "import os\n",
    "# from src.data_matching.main import get_edgelist"
   ]
  },
  {
   "cell_type": "code",
   "execution_count": 4,
   "metadata": {},
   "outputs": [
    {
     "data": {
      "text/plain": [
       "(Index(['musician', 'birthDate', 'familyNameLabel', 'givenNameLabel',\n",
       "        'numberOfChildren', 'websiteLabel', 'residenceLabel', 'ethnicityLabel',\n",
       "        'religionLabel', 'activityStart', 'twitterNameLabel', 'geniusNameLabel',\n",
       "        'recordLabelLabel'],\n",
       "       dtype='object'),\n",
       " Index(['musician', 'birthDate', 'familyNameLabel', 'givenNameLabel',\n",
       "        'numberOfChildren', 'websiteLabel', 'residenceLabel', 'ethnicityLabel',\n",
       "        'religionLabel', 'activityStart', 'twitterNameLabel', 'geniusNameLabel',\n",
       "        'recordLabelLabel'],\n",
       "       dtype='object'))"
      ]
     },
     "execution_count": 4,
     "metadata": {},
     "output_type": "execute_result"
    }
   ],
   "source": [
    "df_source=pd.read_csv(\"./tests/datasets/Wikidata/Musicians/Musicians_joinable/musicians_joinable_source.csv\")\n",
    "df_target=pd.read_csv(\"./tests/datasets/Wikidata/Musicians/Musicians_joinable/musicians_joinable_source.csv\")\n",
    "df_source.columns,df_target.columns"
   ]
  },
  {
   "cell_type": "code",
   "execution_count": null,
   "metadata": {},
   "outputs": [],
   "source": []
  },
  {
   "cell_type": "code",
   "execution_count": 2,
   "metadata": {},
   "outputs": [],
   "source": [
    "path=\"/mnt/c/Users/nkired/Documents/data-matching/tests/input_data\"\n",
    "# for file in os.listdir(path):\n",
    "#     base_name=os.path.basename(file).split(\".\")[0]\n",
    "#     path_file=os.path.join(path,file)\n",
    "#     df=pd.read_csv(path_file)\n",
    "#     reduced_df=df.sample(int(0.25*len(df)))\n",
    "#     base_new_name=base_name+\"_small.csv\"\n",
    "#     reduced_df.to_csv(os.path.join(path,base_new_name),index=False)\n"
   ]
  },
  {
   "cell_type": "code",
   "execution_count": 3,
   "metadata": {},
   "outputs": [],
   "source": [
    "from src.data_matching.EmbDI.edgelist import EdgeList\n",
    "\n",
    "def get_edgelist(input_file, out_dir, export: bool =True, overwrite: bool = True, dry_run: bool = False):\n",
    "    \"\"\"Translate an input CSV file into an edgelist.\"\"\"\n",
    "    dfpath = input_file\n",
    "    base_name = os.path.basename(input_file).replace(\".csv\", \".txt\")\n",
    "    edgefile = os.path.join(out_dir, base_name)\n",
    "    info_file = None\n",
    "    df = pd.read_csv(dfpath, low_memory=False)\n",
    "    pref = [\"3#__tn\", \"3$__tt\", \"5$__idx\", \"1$__cid\"]\n",
    "    el = EdgeList(df, edgefile, pref, info_file, flatten=True)\n",
    "    if dry_run:\n",
    "        if export:\n",
    "            el.convert_to_dict()\n",
    "            gdict = el.convert_to_dict()\n",
    "            print(\"el\", el.convert_to_dict())\n",
    "            print(\"gdict\", gdict)\n",
    "            g_nx = nx.from_dict_of_lists(gdict)\n",
    "            n, _ = osp.splitext(edgefile)\n",
    "            nx_fname = n + \".nx\"\n",
    "            pkl_fname = n + \".pkl\"\n",
    "            if overwrite:\n",
    "                with open(nx_fname, \"wb\") as nx_file:\n",
    "                    pickle.dump(g_nx, nx_file)\n",
    "                with open(pkl_fname, \"wb\") as pkl_file:\n",
    "                    pickle.dump(gdict, pkl_file)\n"
   ]
  },
  {
   "cell_type": "code",
   "execution_count": 4,
   "metadata": {},
   "outputs": [
    {
     "name": "stderr",
     "output_type": "stream",
     "text": [
      "340it [00:00, 2333.50it/s]\n"
     ]
    },
    {
     "name": "stdout",
     "output_type": "stream",
     "text": [
      "\n"
     ]
    },
    {
     "name": "stderr",
     "output_type": "stream",
     "text": [
      "806it [00:00, 2619.71it/s]\n"
     ]
    },
    {
     "name": "stdout",
     "output_type": "stream",
     "text": [
      "\n"
     ]
    },
    {
     "name": "stderr",
     "output_type": "stream",
     "text": [
      "1086it [00:00, 2388.34it/s]\n"
     ]
    },
    {
     "name": "stdout",
     "output_type": "stream",
     "text": [
      "\n"
     ]
    },
    {
     "name": "stderr",
     "output_type": "stream",
     "text": [
      "750it [00:00, 1710.18it/s]\n"
     ]
    },
    {
     "name": "stdout",
     "output_type": "stream",
     "text": [
      "\n"
     ]
    },
    {
     "name": "stderr",
     "output_type": "stream",
     "text": [
      "654it [00:00, 1765.01it/s]\n"
     ]
    },
    {
     "name": "stdout",
     "output_type": "stream",
     "text": [
      "\n"
     ]
    },
    {
     "name": "stderr",
     "output_type": "stream",
     "text": [
      "125it [00:00, 2058.57it/s]\n"
     ]
    },
    {
     "name": "stdout",
     "output_type": "stream",
     "text": [
      "\n"
     ]
    },
    {
     "name": "stderr",
     "output_type": "stream",
     "text": [
      "573it [00:00, 2023.69it/s]\n"
     ]
    },
    {
     "name": "stdout",
     "output_type": "stream",
     "text": [
      "\n"
     ]
    },
    {
     "name": "stderr",
     "output_type": "stream",
     "text": [
      "654it [00:00, 2413.35it/s]\n"
     ]
    },
    {
     "name": "stdout",
     "output_type": "stream",
     "text": [
      "\n"
     ]
    },
    {
     "name": "stderr",
     "output_type": "stream",
     "text": [
      "16065it [00:05, 3104.18it/s]\n"
     ]
    },
    {
     "name": "stdout",
     "output_type": "stream",
     "text": [
      "\n"
     ]
    },
    {
     "name": "stderr",
     "output_type": "stream",
     "text": [
      "133it [00:00, 3465.44it/s]\n"
     ]
    },
    {
     "name": "stdout",
     "output_type": "stream",
     "text": [
      "\n"
     ]
    },
    {
     "name": "stderr",
     "output_type": "stream",
     "text": [
      "82it [00:00, 3164.26it/s]\n"
     ]
    },
    {
     "name": "stdout",
     "output_type": "stream",
     "text": [
      "\n"
     ]
    },
    {
     "name": "stderr",
     "output_type": "stream",
     "text": [
      "1132it [00:00, 3720.83it/s]\n"
     ]
    },
    {
     "name": "stdout",
     "output_type": "stream",
     "text": [
      "\n"
     ]
    },
    {
     "name": "stderr",
     "output_type": "stream",
     "text": [
      "11336it [00:04, 2651.26it/s]\n"
     ]
    },
    {
     "name": "stdout",
     "output_type": "stream",
     "text": [
      "\n"
     ]
    },
    {
     "name": "stderr",
     "output_type": "stream",
     "text": [
      "1726it [00:00, 3384.16it/s]\n"
     ]
    },
    {
     "name": "stdout",
     "output_type": "stream",
     "text": [
      "\n"
     ]
    },
    {
     "name": "stderr",
     "output_type": "stream",
     "text": [
      "13980it [00:04, 3064.97it/s]\n"
     ]
    },
    {
     "name": "stdout",
     "output_type": "stream",
     "text": [
      "\n"
     ]
    },
    {
     "name": "stderr",
     "output_type": "stream",
     "text": [
      "1250it [00:00, 1528.78it/s]\n"
     ]
    },
    {
     "name": "stdout",
     "output_type": "stream",
     "text": [
      "\n"
     ]
    },
    {
     "name": "stderr",
     "output_type": "stream",
     "text": [
      "10it [00:00, 948.14it/s]\n"
     ]
    },
    {
     "name": "stdout",
     "output_type": "stream",
     "text": [
      "\n"
     ]
    },
    {
     "name": "stderr",
     "output_type": "stream",
     "text": [
      "5813it [00:04, 1354.35it/s]\n"
     ]
    },
    {
     "name": "stdout",
     "output_type": "stream",
     "text": [
      "\n"
     ]
    },
    {
     "name": "stderr",
     "output_type": "stream",
     "text": [
      "2906it [00:02, 1390.19it/s]"
     ]
    },
    {
     "name": "stdout",
     "output_type": "stream",
     "text": [
      "\n"
     ]
    },
    {
     "name": "stderr",
     "output_type": "stream",
     "text": [
      "\n"
     ]
    }
   ],
   "source": [
    "input_path=\"/mnt/c/Users/nkired/Documents/data-matching/tests/input_data\"\n",
    "output_path=\"/mnt/c/Users/nkired/Documents/data-matching/tests/output_data\"\n",
    "for file in os.listdir(input_path):\n",
    "    path_file=os.path.join(input_path,file)\n",
    "    if \"small\" in file:\n",
    "        get_edgelist(path_file, output_path)\n",
    "        "
   ]
  },
  {
   "cell_type": "code",
   "execution_count": 68,
   "metadata": {},
   "outputs": [],
   "source": [
    "# Load model directly\n",
    "from transformers import AutoTokenizer, AutoModelForSequenceClassification\n",
    "\n",
    "tokenizer = AutoTokenizer.from_pretrained(\"facebook/bart-large-mnli\")\n",
    "# model = AutoModelForSequenceClassification.from_pretrained(\"facebook/bart-large-mnli\")"
   ]
  },
  {
   "cell_type": "code",
   "execution_count": 69,
   "metadata": {},
   "outputs": [],
   "source": [
    "from transformers import BartConfig, BartModel\n",
    "\n",
    "# Initializing a BART facebook/bart-large style configuration\n",
    "configuration = BartConfig(d_model=16)\n",
    "\n",
    "# Initializing a model (with random weights) from the facebook/bart-large style configuration\n",
    "model = BartModel(configuration)\n",
    "\n",
    "# Accessing the model configuration\n",
    "configuration = model.config"
   ]
  },
  {
   "cell_type": "code",
   "execution_count": 194,
   "metadata": {},
   "outputs": [],
   "source": [
    "import torch\n",
    "\n",
    "def mean_pooling(model_output, attention_mask):\n",
    "    token_embeddings = model_output[0] #First element of model_output contains all token embeddings\n",
    "    input_mask_expanded = attention_mask.unsqueeze(-1).expand(token_embeddings.size()).float()\n",
    "    return torch.sum(token_embeddings * input_mask_expanded, 1) / torch.clamp(input_mask_expanded.sum(1), min=1e-9)\n"
   ]
  },
  {
   "cell_type": "code",
   "execution_count": 222,
   "metadata": {},
   "outputs": [
    {
     "ename": "AttributeError",
     "evalue": "'str' object has no attribute 'contains'",
     "output_type": "error",
     "traceback": [
      "\u001b[0;31m---------------------------------------------------------------------------\u001b[0m",
      "\u001b[0;31mAttributeError\u001b[0m                            Traceback (most recent call last)",
      "\u001b[1;32m/mnt/c/Users/nkired/Documents/data-matching/help_clean_repo.ipynb Cell 10\u001b[0m line \u001b[0;36m2\n\u001b[1;32m      <a href='vscode-notebook-cell://wsl%2Bubuntu-22.04/mnt/c/Users/nkired/Documents/data-matching/help_clean_repo.ipynb#X36sdnNjb2RlLXJlbW90ZQ%3D%3D?line=0'>1</a>\u001b[0m att\u001b[39m=\u001b[39m\u001b[39m\"\u001b[39m\u001b[39man\u001b[39m\u001b[39m\"\u001b[39m\n\u001b[0;32m----> <a href='vscode-notebook-cell://wsl%2Bubuntu-22.04/mnt/c/Users/nkired/Documents/data-matching/help_clean_repo.ipynb#X36sdnNjb2RlLXJlbW90ZQ%3D%3D?line=1'>2</a>\u001b[0m att\u001b[39m.\u001b[39;49mcontains(\u001b[39m\"\u001b[39m\u001b[39mNan\u001b[39m\u001b[39m\"\u001b[39m)\n",
      "\u001b[0;31mAttributeError\u001b[0m: 'str' object has no attribute 'contains'"
     ]
    }
   ],
   "source": [
    "att=\"an\"(\"Nan\")"
   ]
  },
  {
   "cell_type": "code",
   "execution_count": 223,
   "metadata": {},
   "outputs": [],
   "source": [
    "from transformers import BartTokenizer, BartModel, BartConfig\n",
    "# import torch.nn as nn\n",
    "from transformers import BartConfig, BartModel\n",
    "\n",
    "configuration = BartConfig(d_model=80)\n",
    "model = BartModel(configuration)\n",
    "configuration = model.config\n",
    "tokenizer = BartTokenizer.from_pretrained('facebook/bart-large')\n",
    "\n",
    "inputs = tokenizer(\"my name is nour\", return_tensors=\"pt\", padding=True, truncation=True)\n",
    "outputs = model(**inputs)\n",
    "# last_hidden_states1 = outputs.last_hidden_state[0]\n",
    "sentence_embeddings1 = mean_pooling(outputs, inputs['attention_mask'])[0]\n",
    "\n",
    "\n",
    "inputs = tokenizer(\"my name is nour\", return_tensors=\"pt\", padding=True, truncation=True)\n",
    "outputs = model(**inputs)\n",
    "last_hidden_states = outputs.last_hidden_state[0]\n",
    "sentence_embeddings2 = mean_pooling(outputs, inputs['attention_mask'])[0]"
   ]
  },
  {
   "cell_type": "code",
   "execution_count": 224,
   "metadata": {},
   "outputs": [
    {
     "name": "stdout",
     "output_type": "stream",
     "text": [
      "0.8975244\n"
     ]
    }
   ],
   "source": [
    "cos_sim = lambda a,b: (a @ b.T) / (norm(a)*norm(b))\n",
    "print(cos_sim(sentence_embeddings1.detach().numpy(), sentence_embeddings2.detach().numpy()))"
   ]
  },
  {
   "cell_type": "code",
   "execution_count": 113,
   "metadata": {},
   "outputs": [],
   "source": [
    "from transformers import AutoTokenizer, AutoModel\n",
    "\n",
    "tokenizer = AutoTokenizer.from_pretrained(\"HaotianQi/6-768-en-distilbert\")\n",
    "model = AutoModel.from_pretrained(\"HaotianQi/6-768-en-distilbert\")\n",
    "\n",
    "inputs = tokenizer(\"name is 9adour\", return_tensors=\"pt\")\n",
    "outputs = model(**inputs)\n",
    "\n",
    "last_hidden_states = outputs.last_hidden_state\n",
    "\n",
    "\n",
    "inputs = tokenizer(\"my patate is nour\", return_tensors=\"pt\")\n",
    "outputs = model(**inputs)\n",
    "\n",
    "last_hidden_states1 = outputs.last_hidden_state\n"
   ]
  },
  {
   "cell_type": "code",
   "execution_count": 100,
   "metadata": {},
   "outputs": [
    {
     "data": {
      "text/plain": [
       "array([ 0.22596829,  1.1337802 , -0.406336  , ...,  1.3532113 ,\n",
       "        0.5006873 ,  0.04817429], dtype=float32)"
      ]
     },
     "execution_count": 100,
     "metadata": {},
     "output_type": "execute_result"
    }
   ],
   "source": [
    "last_hidden_states1[0][0].detach().numpy()"
   ]
  },
  {
   "cell_type": "code",
   "execution_count": 104,
   "metadata": {},
   "outputs": [
    {
     "name": "stderr",
     "output_type": "stream",
     "text": [
      "(…)lbert/resolve/main/tokenizer_config.json: 100%|██████████| 369/369 [00:00<00:00, 1.08MB/s]\n",
      "(…)768-en-distilbert/resolve/main/vocab.txt: 100%|██████████| 232k/232k [00:00<00:00, 1.63MB/s]\n",
      "(…)n-distilbert/resolve/main/tokenizer.json: 100%|██████████| 711k/711k [00:00<00:00, 3.84MB/s]\n",
      "(…)ert/resolve/main/special_tokens_map.json: 100%|██████████| 125/125 [00:00<00:00, 365kB/s]\n",
      "(…)8-en-distilbert/resolve/main/config.json: 100%|██████████| 657/657 [00:00<00:00, 689kB/s]\n",
      "pytorch_model.bin: 100%|██████████| 268M/268M [00:09<00:00, 27.8MB/s] \n"
     ]
    },
    {
     "data": {
      "text/plain": [
       "tensor([-2.9773e-01,  1.5724e-01, -1.2090e-01,  2.0131e-01, -5.4234e-03,\n",
       "         1.1509e+00, -5.1944e-01, -5.4392e-01, -3.4535e-01, -5.3543e-01,\n",
       "         4.5796e-01, -7.0982e-01, -9.2714e-01,  5.1401e-01, -5.1286e-02,\n",
       "        -6.8508e-02, -6.6399e-01,  8.5144e-01,  6.8438e-02, -1.4652e+00,\n",
       "         4.2446e-03,  1.1866e-01,  5.6276e-01,  1.9474e-01, -2.0074e-01,\n",
       "         7.1826e-01,  6.5658e-01, -3.2080e-01,  4.7069e+00, -1.0368e+00,\n",
       "         4.4640e-01,  5.2893e-01,  2.7580e-01, -1.3324e-01,  3.1890e-01,\n",
       "         4.2724e-01,  1.1498e+00, -6.1332e-01,  2.7761e-01,  2.3686e+00,\n",
       "         4.2171e-01,  4.6497e-01,  1.8477e-01,  1.3966e-01, -2.4073e-01,\n",
       "         2.4145e-01, -1.1408e+00,  3.6580e-02, -7.1237e-01,  1.8648e-01,\n",
       "         3.1811e-01,  2.5932e-01, -1.6287e-01,  7.1321e-02,  3.2491e-01,\n",
       "        -8.0969e-01,  6.1864e-02, -1.4218e-01, -4.5625e-01,  3.7133e-01,\n",
       "         4.2728e-01, -4.0076e-01,  8.7416e-02,  1.2392e-02, -1.7881e-01,\n",
       "        -2.8869e-01, -1.9142e-01, -7.7388e-01, -2.3698e-01,  4.7011e-01,\n",
       "        -3.0371e-02,  5.7796e-01,  8.1817e-01,  5.6680e-01, -3.6812e-01,\n",
       "         1.8813e-01,  2.2221e-01,  2.5148e-01,  3.7359e-01,  3.8456e-02,\n",
       "        -2.6438e-01, -1.0396e+00,  2.1859e-01,  4.6618e-01, -8.8512e-01,\n",
       "         4.3612e-01, -4.1766e-01,  7.0957e-01, -3.7023e-01,  1.4379e+00,\n",
       "         4.9938e-02, -7.2746e-01,  7.2177e-01, -9.4017e-01,  7.7657e-02,\n",
       "         1.6676e-01,  6.5912e-01, -2.2082e-01,  6.0096e-01, -3.4971e-01,\n",
       "         6.0794e-02, -2.2291e-01,  1.8395e-01, -4.3779e-01, -1.9213e-01,\n",
       "         8.1133e-01,  9.9416e-02,  5.7652e-01, -3.3464e-01,  2.4698e-01,\n",
       "         4.5633e-01, -2.9348e-01, -4.7155e-01, -1.7613e+00,  3.9077e-01,\n",
       "        -1.7295e-01,  1.0382e+00,  5.4672e-01, -4.7578e-01, -6.7123e-01,\n",
       "        -5.1550e-01, -2.7242e-01, -6.1422e-01,  5.2458e-01,  4.8376e-01,\n",
       "        -1.8664e-01,  2.7101e-01, -2.1031e-01,  4.9299e-02, -3.3922e-01,\n",
       "         2.9162e-01, -2.9556e-01, -1.4350e-01,  2.3137e-02, -3.3526e-01,\n",
       "         7.0357e-01,  1.1009e-01,  7.4330e-01, -3.4232e-03, -6.1586e-01,\n",
       "        -2.5587e-01,  8.2137e-01, -7.9680e-03, -9.6312e-01, -3.5852e-01,\n",
       "         5.6128e-01,  4.9440e-01, -6.6687e-01, -1.5912e-01, -4.5213e-01,\n",
       "         1.2353e+00,  1.7229e+00, -3.2564e-01, -3.7744e-01,  3.6012e-01,\n",
       "        -2.5627e-01, -4.9865e-01,  1.0323e+00, -4.8540e-01, -1.3972e-01,\n",
       "        -2.1527e-01, -1.9950e-01, -3.8030e-01,  1.8593e-01,  8.6841e-02,\n",
       "        -1.7302e-01,  1.9421e-01, -6.8184e-01,  8.4211e-01, -4.0503e-01,\n",
       "        -7.0885e-01, -1.0198e-01,  1.1896e-01,  1.0082e+00, -5.9186e-01,\n",
       "         2.0533e-01, -6.9623e-01, -1.4744e+00,  7.4980e-02, -4.2070e-01,\n",
       "        -3.7169e-01, -4.7508e-02, -2.7163e-01, -5.9790e-01, -5.1955e-01,\n",
       "         1.4023e-01,  1.9295e-01, -6.6310e-01, -4.3432e-01, -6.9006e-01,\n",
       "        -1.3041e-01,  1.1387e-01, -3.5420e-01, -4.2884e-01,  7.4331e-02,\n",
       "         3.8053e-01, -1.6992e-01,  5.4150e-01, -2.2438e-01, -2.8797e-02,\n",
       "         1.5730e-02,  8.0239e-01,  3.0970e-01,  1.8449e-01,  5.1456e-01,\n",
       "         7.1002e-01, -9.3749e-01,  7.3709e-01,  3.5206e-01, -2.7631e-01,\n",
       "         9.1443e-02, -1.4988e-01,  2.0815e-01,  3.5908e-01,  5.0037e-01,\n",
       "         1.5639e-01,  9.3194e-01,  1.8073e-01,  2.2877e-01, -3.0595e-01,\n",
       "         1.5158e-01, -2.3744e-01,  3.3344e-01,  8.4353e-01,  7.9281e-02,\n",
       "        -4.1872e-01, -2.0995e-01, -5.3157e-01,  5.1356e-01,  5.3521e-02,\n",
       "        -2.6833e-01, -4.8842e-01,  4.8664e-01,  7.5832e-01, -3.2384e-01,\n",
       "        -9.6600e-01,  2.2493e-01,  3.4581e-01,  4.0972e-01,  9.8356e-01,\n",
       "        -3.0413e-01, -3.4283e-01,  1.1581e-01, -8.9110e-01, -7.5188e-01,\n",
       "         3.2087e-01,  1.4442e+00, -4.4867e-01, -6.4416e-01,  4.9435e-01,\n",
       "         8.0346e-01, -2.1690e-02,  1.1935e-01, -6.8111e-02,  1.6666e-01,\n",
       "        -6.3768e-01, -5.4626e-03,  1.0280e+00,  2.3290e-01, -1.7210e-01,\n",
       "        -1.2277e+00, -5.2509e-01, -2.4390e-01, -5.6705e-01,  3.5362e-01,\n",
       "         1.9418e-01, -1.6475e-01,  4.1765e-01,  8.7234e-01, -2.7430e-01,\n",
       "         1.9643e-01, -5.7849e-01, -1.0826e+00, -7.8701e-01, -4.6213e-01,\n",
       "         5.9928e-01,  5.1512e-01,  3.8280e-01, -1.4310e-01,  1.8542e-01,\n",
       "        -1.3128e-01, -2.9702e-02,  1.2632e-01, -1.0704e-01, -4.3181e-01,\n",
       "         3.4402e-01, -1.2648e-01,  3.0755e-01, -2.1326e-01,  9.8706e-02,\n",
       "         5.6310e-01, -2.6410e-01, -6.5090e-01,  3.1422e-01,  1.1900e-01,\n",
       "        -4.6850e-01, -5.2159e-01, -1.1448e+00,  5.6694e-01, -2.7831e-01,\n",
       "        -1.6967e-01, -1.2280e-01,  2.2604e-01, -2.0719e-02,  1.4349e-01,\n",
       "        -1.0566e-01,  1.9159e-01, -2.1263e-01,  8.6594e-01,  8.8082e-01,\n",
       "         2.6669e-02, -2.7703e-01, -8.1283e-02,  5.4631e-02, -7.0181e-01,\n",
       "         1.3751e-01,  5.8508e-01, -2.7142e-01, -7.0708e-01, -6.9000e-01,\n",
       "        -4.2263e-01,  2.3892e-01, -2.2691e-01,  6.6778e-01, -9.8614e-01,\n",
       "         2.0647e-01,  1.3614e+00, -3.4387e-01,  3.8735e-01, -1.4533e-01,\n",
       "        -3.7884e-01,  4.6512e-02, -2.4210e-01,  1.9713e-01,  1.6043e-01,\n",
       "        -6.1725e-01, -1.0943e+00,  8.8388e-01, -6.1450e-02, -2.2527e-01,\n",
       "        -4.5087e-01, -4.1067e-01, -6.1188e-02, -6.5715e-01,  1.0858e+00,\n",
       "        -5.5407e-02,  1.0410e+00, -2.5335e-01, -2.1903e-01,  5.5089e-01,\n",
       "         2.2696e-01,  6.8959e-02,  5.1346e+00, -3.9687e-01,  5.4536e-01,\n",
       "        -7.2261e-01,  6.3893e-01,  4.1008e-01,  7.7467e-01,  4.5359e-01,\n",
       "         5.6397e-01,  8.5627e-02, -4.2939e-01,  8.1191e-01,  3.6380e-01,\n",
       "         2.9321e-01,  1.4240e-01,  1.3268e-01, -5.6618e-01, -4.1693e-01,\n",
       "        -5.7461e-01,  6.1200e-02, -7.9325e-01,  2.9135e-01, -2.4946e-01,\n",
       "        -2.1699e-01, -5.0395e-02, -1.9506e-01, -1.0894e-01,  2.8372e-01,\n",
       "        -1.0414e-01,  4.1482e-01,  9.8566e-01, -1.1174e+00,  8.2927e-01,\n",
       "        -7.4781e-01,  4.2212e-02, -8.4108e-01,  3.7944e-01,  1.5196e-02,\n",
       "        -7.2337e-01,  2.3537e-01,  4.5244e-01, -8.1927e-02,  1.3019e-01,\n",
       "        -3.5749e-01,  1.0514e-01,  1.0732e+00,  2.0457e-01,  8.9923e-02,\n",
       "        -5.8857e-01,  4.1048e-01,  8.4329e-01,  9.1343e-01, -6.2494e-01,\n",
       "        -4.5807e-02, -7.9894e-01, -1.4967e-01, -3.2483e-01, -1.7742e-01,\n",
       "         1.1788e+00, -7.1185e-01, -1.3573e-01,  3.4889e-01,  5.3124e-01,\n",
       "        -2.0245e-01, -7.4868e-01,  2.2888e-01, -5.9269e-02, -2.2802e-01,\n",
       "         1.1661e-01,  4.1046e-01,  1.8742e-01,  1.9996e-01,  2.8302e-01,\n",
       "         2.9949e-02,  5.5059e-01,  8.3872e-01,  4.0544e-01,  3.7121e-01,\n",
       "        -3.8491e-01, -5.5040e-01, -5.0904e-01, -2.0883e-01, -2.9355e-01,\n",
       "        -5.4852e-01,  3.4631e-01,  1.6190e-01, -7.1394e-01,  2.8128e-01,\n",
       "         1.6723e-01,  7.1896e-01, -6.1168e-01,  1.0782e+00, -6.1810e-01,\n",
       "         3.9818e-01,  9.2454e-01, -5.8104e-01,  1.7976e-01, -5.0121e-01,\n",
       "        -5.3187e-01,  5.3559e-01, -4.3640e-01, -5.7406e-01, -7.0724e-01,\n",
       "         8.7996e-01,  1.7455e-01, -1.9533e-01,  2.0203e-01, -6.2470e-01,\n",
       "         5.2913e-01,  5.3468e-01, -5.5840e-01,  1.6417e-01,  1.0232e+00,\n",
       "         2.7245e-01, -2.1965e-01,  2.3389e-01, -2.6170e-01, -2.2730e-01,\n",
       "        -5.0209e-02, -5.5587e-01, -6.4017e-01,  1.1732e-01, -3.0019e-01,\n",
       "        -7.9959e-02, -1.2626e-01,  2.7419e-01, -2.3583e-01, -1.4689e+00,\n",
       "         2.4528e-01, -1.6893e+00,  1.6429e-01, -2.1098e-01,  5.4561e-01,\n",
       "         5.3660e-01, -5.1279e-01, -3.1702e-01,  2.8942e-01,  5.9385e-01,\n",
       "        -4.0788e-01,  3.8009e-01, -9.6821e-01,  1.3324e-01, -4.3200e-01,\n",
       "         9.3997e-01, -4.8136e-01, -5.0374e-01, -1.0412e-01, -8.1327e-01,\n",
       "         1.1681e+00,  5.0666e-01,  5.1897e-01, -3.1207e-01, -1.8621e-01,\n",
       "        -2.2996e-01,  4.1761e-01, -7.6494e-01, -9.1654e-01,  1.9561e-01,\n",
       "         8.5447e-01, -5.0599e-02,  3.7068e-01, -2.0899e-01, -7.1101e-02,\n",
       "         6.3164e-01, -2.7233e-01,  7.8133e-01,  3.7009e-01, -3.6000e-01,\n",
       "        -1.0947e-01,  6.3476e-02, -5.0323e-01,  1.1655e-01,  1.6336e-02,\n",
       "         6.2559e-01, -4.9964e-01, -8.6247e-02,  4.7108e-02,  1.4730e-02,\n",
       "        -5.2828e-01, -4.1176e-02,  4.9779e-01,  8.2275e-02, -1.9479e-01,\n",
       "        -6.3153e-01, -8.6481e-01,  4.2166e-01,  6.2010e-01, -3.5397e-01,\n",
       "         7.0077e-01,  4.7413e-01, -8.5176e-01,  1.1525e-01,  1.0204e+01,\n",
       "         1.4941e-02,  6.0489e-01, -6.7311e-01,  1.7204e-01,  2.6077e-01,\n",
       "        -5.0655e-01, -1.2894e+00,  3.3208e-01,  2.7979e-01, -1.9616e-02,\n",
       "         2.0326e-01, -4.3292e-01,  3.5074e-01,  5.8740e-02, -8.8444e-01,\n",
       "        -7.5012e-01, -8.3413e-02,  5.3677e-01, -4.8629e-02, -2.4280e-01,\n",
       "        -1.1707e-01,  4.6947e-01,  2.7841e-01,  2.2273e-01, -1.7257e-01,\n",
       "         4.4987e-01,  5.7236e-01, -3.1142e-02,  7.5232e-01, -3.7706e-02,\n",
       "        -1.2353e+00, -2.1114e-01, -8.1697e-01,  8.0930e-01,  3.1611e-01,\n",
       "        -3.5010e-01, -2.9620e-01,  1.5938e-01, -1.7419e-02,  6.4804e-01,\n",
       "        -1.2725e+00, -2.2991e-01, -6.7139e-02,  4.7192e-01,  7.3538e-01,\n",
       "         7.1651e-02, -2.7816e-01,  5.1325e-01,  1.5236e-01, -1.0033e-01,\n",
       "        -2.3455e-01,  3.1933e-01, -2.9987e-01,  8.3213e-02,  2.5664e-01,\n",
       "         1.1214e+00, -1.5233e-01, -4.4199e-01,  1.0644e+00, -2.2984e-01,\n",
       "         7.4933e-01, -7.8968e-01, -2.6913e-01,  6.6057e-01, -7.3292e-01,\n",
       "         3.7952e-02, -1.2406e-01, -4.7845e-01, -1.1407e-01, -1.6598e-01,\n",
       "        -6.6332e-01, -5.4822e-02,  3.6546e-01, -6.6253e-01,  3.4810e-01,\n",
       "        -1.8469e-01, -5.3655e-02, -4.0524e-01,  1.0874e-01, -6.8574e-03,\n",
       "         1.5264e-01, -2.2539e-02, -6.8794e-01,  4.6978e-02,  1.7378e-01,\n",
       "         4.8084e-01, -1.4710e-01, -6.8403e-01,  5.1028e-01,  9.0626e-01,\n",
       "        -5.6738e-01,  5.1542e-01, -1.9858e+01, -3.3236e-01,  7.1340e-01,\n",
       "         5.2166e-01,  3.4870e-01,  4.1335e-01, -6.1551e-02, -2.0344e-02,\n",
       "        -4.0084e-01,  3.7469e-01,  1.9308e-01,  5.4525e-01,  3.0257e-02,\n",
       "         8.3377e-01,  1.8369e-01, -1.5916e-01,  4.9142e-01, -2.6261e-01,\n",
       "        -7.8344e-01, -8.0100e-03, -3.9484e-01,  2.8829e-01,  1.9886e-01,\n",
       "         7.2009e-01,  1.5112e-01, -4.9313e-01, -6.9968e-01, -7.4226e-02,\n",
       "        -7.6362e-01, -1.7057e-01, -3.3970e-01, -9.0776e-01, -4.6519e-01,\n",
       "        -9.8436e-01, -5.6478e-02, -1.9487e+00, -9.1500e-01,  3.8861e-01,\n",
       "        -7.5313e-01, -7.5473e-01, -4.6965e-01,  1.0571e-01,  3.2588e-01,\n",
       "         8.7952e-03, -1.6789e-01, -2.1474e-01, -4.5330e-01,  8.5544e-01,\n",
       "        -3.6826e-01, -1.3231e+00,  1.0399e+00,  8.2671e-01,  3.3558e-02,\n",
       "         3.6014e-01, -8.9447e-02,  1.0464e+00,  2.1097e-01, -6.8446e-01,\n",
       "        -8.6795e-01, -6.2737e-01,  6.6171e-01, -3.4098e-01,  6.2194e-01,\n",
       "        -1.5773e-01, -6.0461e-02,  5.6651e-01,  1.5917e-01, -3.6295e-01,\n",
       "         1.1405e+00,  1.2253e+00, -6.6670e-01,  5.9003e-01, -6.3240e-01,\n",
       "         7.7891e-01,  3.2840e-01,  5.8409e-02, -4.1973e-01,  7.9577e-01,\n",
       "        -7.6372e-01,  7.1889e-01, -9.5982e-02,  5.7958e-01,  1.4218e-01,\n",
       "         4.9369e-02,  1.6772e-01,  1.9173e-01, -1.9870e-01,  8.7763e-01,\n",
       "         6.4228e-01,  1.1054e-02, -1.7185e-01, -6.7617e-01, -4.4478e-01,\n",
       "         4.1669e-01,  1.4592e-01, -9.7252e-02,  8.2238e-01,  1.0224e-01,\n",
       "         5.6587e-01,  2.4434e-01,  4.5339e-01, -1.1060e+00,  4.1457e-01,\n",
       "        -4.2472e-01,  3.6016e-02,  1.7354e-01, -1.9073e-01, -2.1465e-01,\n",
       "         7.9636e-01,  6.1127e-02, -8.5582e-02,  2.9865e-01, -2.4354e-01,\n",
       "         1.0188e+00, -5.7086e-01, -2.8166e-01, -6.0692e-01, -7.0178e-01,\n",
       "         3.5029e-01,  1.2020e-01,  5.6373e-01,  4.2038e-01, -7.9925e-02,\n",
       "        -1.1692e-01, -6.8425e-01, -6.1170e-02, -2.1708e-01, -2.3979e-01,\n",
       "         3.2652e-01, -1.1434e+00,  7.7188e-01], grad_fn=<SelectBackward0>)"
      ]
     },
     "execution_count": 104,
     "metadata": {},
     "output_type": "execute_result"
    }
   ],
   "source": [
    "# Load model directly\n",
    "from transformers import AutoTokenizer, AutoModel\n",
    "\n",
    "tokenizer = AutoTokenizer.from_pretrained(\"HaotianQi/6-768-en-distilbert\")\n",
    "model = AutoModel.from_pretrained(\"HaotianQi/6-768-en-distilbert\")\n",
    "\n",
    "inputs = tokenizer(\"name is 9adour\", return_tensors=\"pt\")\n",
    "outputs = model(**inputs)\n",
    "\n",
    "last_hidden_states = outputs.last_hidden_state\n",
    "last_hidden_states[0][0]"
   ]
  },
  {
   "cell_type": "code",
   "execution_count": 2,
   "metadata": {},
   "outputs": [
    {
     "name": "stdout",
     "output_type": "stream",
     "text": [
      "output_dir True\n"
     ]
    }
   ],
   "source": [
    "import os \n",
    "walk_strategies = ['basic', 'node2vec', 'deepwalk', 'metapath2vec']\n",
    "sentence_lengths = [20, 30, 50, 70,100]\n",
    "n_sentences = [2000, 3000, 5000, 7000, 9000, 100000]\n",
    "training_algorithms = ['word2vec', 'doc2vec']\n",
    "learning_methods = ['skipgram', 'CBOW']\n",
    "window_sizes = [2, 3, 4, 5]\n",
    "dimensions = 64\n",
    "print(\"output_dir\",os.path.exists(\"./tests/slurm/scripts/\"))\n",
    "def generate_scripts(output_dir=\"./tests/slurm/scripts\"):\n",
    "    i=0\n",
    "    for walk_strategy in walk_strategies:\n",
    "        for sentence_length in sentence_lengths:\n",
    "            for n_sentence in n_sentences:\n",
    "                for training_algorithm in training_algorithms:\n",
    "                    for learning_method in learning_methods:\n",
    "                        for window_size in window_sizes:\n",
    "                            if not os.path.exists(f\"./tests/output_data/dataframes/musiciens_{walk_strategy}_{sentence_length}_{n_sentence}_{dimensions}_{window_size}_{training_algorithm}_{learning_method}.csv\"):\n",
    "                                # Crée un nom unique pour le script\n",
    "                                script_name = f\"script_job{i}.sh\"\n",
    "                                i+=1\n",
    "                                # Génère le contenu du script Shell\n",
    "                                script_content = f\"\"\"#!/bin/bash\n",
    "        srun singularity exec /logiciels/containerCollections/CUDA11/pytorch-NGC-20-06-py3.sif $HOME/my_env/bin/python src/data_matching/main.py detect-similarity-all \\\\\n",
    "        -i1 tests/datasets/Wikidata/Musicians/Musicians_joinable/musicians_joinable_source.csv \\\\\n",
    "        -i2 tests/datasets/Wikidata/Musicians/Musicians_joinable/musicians_joinable_source.csv \\\\\n",
    "        -nd 64 \\\\\n",
    "        -ws {walk_strategy} \\\\\n",
    "        -ns {n_sentence} \\\\\n",
    "        -wl {sentence_length} \\\\\n",
    "        -ta {training_algorithm} \\\\\n",
    "        -lm {learning_method} \\\\\n",
    "        -w {window_size}\n",
    "        \"\"\"\n",
    "\n",
    "                                # Écrit le contenu du script Shell dans le fichier\n",
    "                                with open(f\"{output_dir}/{script_name}\", \"w\") as script_file:\n",
    "                                    script_file.write(script_content)\n",
    "\n",
    "generate_scripts()\n"
   ]
  },
  {
   "cell_type": "code",
   "execution_count": 234,
   "metadata": {},
   "outputs": [],
   "source": [
    "walk_strategies = ['basic', 'node2vec', 'deepwalk', 'metapath2vec']\n",
    "sentence_lengths = [200, 300, 500, 9000]\n",
    "n_sentences = [2000, 3000, 5000, 7000, 9000, 100000]\n",
    "training_algorithms = ['word2vec', 'doc2vec']\n",
    "learning_methods = ['skipgram', 'CBOW']\n",
    "window_sizes = [2, 3, 4, 5]\n",
    "dimensions = 64"
   ]
  },
  {
   "cell_type": "code",
   "execution_count": 1,
   "metadata": {},
   "outputs": [
    {
     "name": "stderr",
     "output_type": "stream",
     "text": [
      "/home/nkired/.cache/pypoetry/virtualenvs/data-matching-1lo6pFQ1-py3.10/lib/python3.10/site-packages/tqdm/auto.py:21: TqdmWarning: IProgress not found. Please update jupyter and ipywidgets. See https://ipywidgets.readthedocs.io/en/stable/user_install.html\n",
      "  from .autonotebook import tqdm as notebook_tqdm\n"
     ]
    },
    {
     "ename": "NameError",
     "evalue": "name 'input_file1' is not defined",
     "output_type": "error",
     "traceback": [
      "\u001b[0;31m---------------------------------------------------------------------------\u001b[0m",
      "\u001b[0;31mNameError\u001b[0m                                 Traceback (most recent call last)",
      "\u001b[1;32m/mnt/c/Users/nkired/Documents/data-matching/help_clean_repo.ipynb Cell 18\u001b[0m line \u001b[0;36m3\n\u001b[1;32m      <a href='vscode-notebook-cell://wsl%2Bubuntu-22.04/mnt/c/Users/nkired/Documents/data-matching/help_clean_repo.ipynb#X23sdnNjb2RlLXJlbW90ZQ%3D%3D?line=0'>1</a>\u001b[0m \u001b[39mfrom\u001b[39;00m \u001b[39msrc\u001b[39;00m\u001b[39m.\u001b[39;00m\u001b[39mdata_matching\u001b[39;00m\u001b[39m.\u001b[39;00m\u001b[39mmain\u001b[39;00m \u001b[39mimport\u001b[39;00m detect_similarity_all\n\u001b[0;32m----> <a href='vscode-notebook-cell://wsl%2Bubuntu-22.04/mnt/c/Users/nkired/Documents/data-matching/help_clean_repo.ipynb#X23sdnNjb2RlLXJlbW90ZQ%3D%3D?line=2'>3</a>\u001b[0m detect_similarity_all(input_file1, input_file2,walk_strategy,walk_length,ndim,window_size,training_algorithm,learning_method)\n",
      "\u001b[0;31mNameError\u001b[0m: name 'input_file1' is not defined"
     ]
    }
   ],
   "source": [
    "from src.data_matching.main import detect_similarity_all\n",
    "input_file1=\n",
    "input_file2=\n",
    "walk_strategy=\n",
    "walk_length=\n",
    "ndim=\n",
    "window_size=\n",
    "training_algorithm=\n",
    "learning_method=\n",
    "detect_similarity_all(input_file1, input_file2,walk_strategy,walk_length,ndim,window_size,training_algorithm,learning_method)"
   ]
  },
  {
   "cell_type": "code",
   "execution_count": null,
   "metadata": {},
   "outputs": [],
   "source": []
  }
 ],
 "metadata": {
  "kernelspec": {
   "display_name": "valentine-QYSSi5FB-py3.10",
   "language": "python",
   "name": "python3"
  },
  "language_info": {
   "codemirror_mode": {
    "name": "ipython",
    "version": 3
   },
   "file_extension": ".py",
   "mimetype": "text/x-python",
   "name": "python",
   "nbconvert_exporter": "python",
   "pygments_lexer": "ipython3",
   "version": "3.10.12"
  }
 },
 "nbformat": 4,
 "nbformat_minor": 2
}
