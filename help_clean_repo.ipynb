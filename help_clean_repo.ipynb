{
 "cells": [
  {
   "cell_type": "code",
   "execution_count": 1,
   "metadata": {},
   "outputs": [],
   "source": [
    "import pandas as pd\n",
    "import os\n",
    "from src.data_matching.main import get_edgelist"
   ]
  },
  {
   "cell_type": "code",
   "execution_count": null,
   "metadata": {},
   "outputs": [],
   "source": []
  },
  {
   "cell_type": "code",
   "execution_count": 2,
   "metadata": {},
   "outputs": [],
   "source": [
    "path=\"/mnt/c/Users/nkired/Documents/data-matching/tests/input_data\"\n",
    "# for file in os.listdir(path):\n",
    "#     base_name=os.path.basename(file).split(\".\")[0]\n",
    "#     path_file=os.path.join(path,file)\n",
    "#     df=pd.read_csv(path_file)\n",
    "#     reduced_df=df.sample(int(0.25*len(df)))\n",
    "#     base_new_name=base_name+\"_small.csv\"\n",
    "#     reduced_df.to_csv(os.path.join(path,base_new_name),index=False)\n"
   ]
  },
  {
   "cell_type": "code",
   "execution_count": 3,
   "metadata": {},
   "outputs": [],
   "source": [
    "from src.data_matching.EmbDI.edgelist import EdgeList\n",
    "\n",
    "def get_edgelist(input_file, out_dir, export: bool =True, overwrite: bool = True, dry_run: bool = False):\n",
    "    \"\"\"Translate an input CSV file into an edgelist.\"\"\"\n",
    "    dfpath = input_file\n",
    "    base_name = os.path.basename(input_file).replace(\".csv\", \".txt\")\n",
    "    edgefile = os.path.join(out_dir, base_name)\n",
    "    info_file = None\n",
    "    df = pd.read_csv(dfpath, low_memory=False)\n",
    "    pref = [\"3#__tn\", \"3$__tt\", \"5$__idx\", \"1$__cid\"]\n",
    "    el = EdgeList(df, edgefile, pref, info_file, flatten=True)\n",
    "    if dry_run:\n",
    "        if export:\n",
    "            el.convert_to_dict()\n",
    "            gdict = el.convert_to_dict()\n",
    "            print(\"el\", el.convert_to_dict())\n",
    "            print(\"gdict\", gdict)\n",
    "            g_nx = nx.from_dict_of_lists(gdict)\n",
    "            n, _ = osp.splitext(edgefile)\n",
    "            nx_fname = n + \".nx\"\n",
    "            pkl_fname = n + \".pkl\"\n",
    "            if overwrite:\n",
    "                with open(nx_fname, \"wb\") as nx_file:\n",
    "                    pickle.dump(g_nx, nx_file)\n",
    "                with open(pkl_fname, \"wb\") as pkl_file:\n",
    "                    pickle.dump(gdict, pkl_file)\n"
   ]
  },
  {
   "cell_type": "code",
   "execution_count": 4,
   "metadata": {},
   "outputs": [
    {
     "name": "stderr",
     "output_type": "stream",
     "text": [
      "340it [00:00, 2333.50it/s]\n"
     ]
    },
    {
     "name": "stdout",
     "output_type": "stream",
     "text": [
      "\n"
     ]
    },
    {
     "name": "stderr",
     "output_type": "stream",
     "text": [
      "806it [00:00, 2619.71it/s]\n"
     ]
    },
    {
     "name": "stdout",
     "output_type": "stream",
     "text": [
      "\n"
     ]
    },
    {
     "name": "stderr",
     "output_type": "stream",
     "text": [
      "1086it [00:00, 2388.34it/s]\n"
     ]
    },
    {
     "name": "stdout",
     "output_type": "stream",
     "text": [
      "\n"
     ]
    },
    {
     "name": "stderr",
     "output_type": "stream",
     "text": [
      "750it [00:00, 1710.18it/s]\n"
     ]
    },
    {
     "name": "stdout",
     "output_type": "stream",
     "text": [
      "\n"
     ]
    },
    {
     "name": "stderr",
     "output_type": "stream",
     "text": [
      "654it [00:00, 1765.01it/s]\n"
     ]
    },
    {
     "name": "stdout",
     "output_type": "stream",
     "text": [
      "\n"
     ]
    },
    {
     "name": "stderr",
     "output_type": "stream",
     "text": [
      "125it [00:00, 2058.57it/s]\n"
     ]
    },
    {
     "name": "stdout",
     "output_type": "stream",
     "text": [
      "\n"
     ]
    },
    {
     "name": "stderr",
     "output_type": "stream",
     "text": [
      "573it [00:00, 2023.69it/s]\n"
     ]
    },
    {
     "name": "stdout",
     "output_type": "stream",
     "text": [
      "\n"
     ]
    },
    {
     "name": "stderr",
     "output_type": "stream",
     "text": [
      "654it [00:00, 2413.35it/s]\n"
     ]
    },
    {
     "name": "stdout",
     "output_type": "stream",
     "text": [
      "\n"
     ]
    },
    {
     "name": "stderr",
     "output_type": "stream",
     "text": [
      "16065it [00:05, 3104.18it/s]\n"
     ]
    },
    {
     "name": "stdout",
     "output_type": "stream",
     "text": [
      "\n"
     ]
    },
    {
     "name": "stderr",
     "output_type": "stream",
     "text": [
      "133it [00:00, 3465.44it/s]\n"
     ]
    },
    {
     "name": "stdout",
     "output_type": "stream",
     "text": [
      "\n"
     ]
    },
    {
     "name": "stderr",
     "output_type": "stream",
     "text": [
      "82it [00:00, 3164.26it/s]\n"
     ]
    },
    {
     "name": "stdout",
     "output_type": "stream",
     "text": [
      "\n"
     ]
    },
    {
     "name": "stderr",
     "output_type": "stream",
     "text": [
      "1132it [00:00, 3720.83it/s]\n"
     ]
    },
    {
     "name": "stdout",
     "output_type": "stream",
     "text": [
      "\n"
     ]
    },
    {
     "name": "stderr",
     "output_type": "stream",
     "text": [
      "11336it [00:04, 2651.26it/s]\n"
     ]
    },
    {
     "name": "stdout",
     "output_type": "stream",
     "text": [
      "\n"
     ]
    },
    {
     "name": "stderr",
     "output_type": "stream",
     "text": [
      "1726it [00:00, 3384.16it/s]\n"
     ]
    },
    {
     "name": "stdout",
     "output_type": "stream",
     "text": [
      "\n"
     ]
    },
    {
     "name": "stderr",
     "output_type": "stream",
     "text": [
      "13980it [00:04, 3064.97it/s]\n"
     ]
    },
    {
     "name": "stdout",
     "output_type": "stream",
     "text": [
      "\n"
     ]
    },
    {
     "name": "stderr",
     "output_type": "stream",
     "text": [
      "1250it [00:00, 1528.78it/s]\n"
     ]
    },
    {
     "name": "stdout",
     "output_type": "stream",
     "text": [
      "\n"
     ]
    },
    {
     "name": "stderr",
     "output_type": "stream",
     "text": [
      "10it [00:00, 948.14it/s]\n"
     ]
    },
    {
     "name": "stdout",
     "output_type": "stream",
     "text": [
      "\n"
     ]
    },
    {
     "name": "stderr",
     "output_type": "stream",
     "text": [
      "5813it [00:04, 1354.35it/s]\n"
     ]
    },
    {
     "name": "stdout",
     "output_type": "stream",
     "text": [
      "\n"
     ]
    },
    {
     "name": "stderr",
     "output_type": "stream",
     "text": [
      "2906it [00:02, 1390.19it/s]"
     ]
    },
    {
     "name": "stdout",
     "output_type": "stream",
     "text": [
      "\n"
     ]
    },
    {
     "name": "stderr",
     "output_type": "stream",
     "text": [
      "\n"
     ]
    }
   ],
   "source": [
    "input_path=\"/mnt/c/Users/nkired/Documents/data-matching/tests/input_data\"\n",
    "output_path=\"/mnt/c/Users/nkired/Documents/data-matching/tests/output_data\"\n",
    "for file in os.listdir(input_path):\n",
    "    path_file=os.path.join(input_path,file)\n",
    "    if \"small\" in file:\n",
    "        get_edgelist(path_file, output_path)\n",
    "        "
   ]
  },
  {
   "cell_type": "code",
   "execution_count": null,
   "metadata": {},
   "outputs": [],
   "source": []
  }
 ],
 "metadata": {
  "kernelspec": {
   "display_name": "valentine-QYSSi5FB-py3.10",
   "language": "python",
   "name": "python3"
  },
  "language_info": {
   "codemirror_mode": {
    "name": "ipython",
    "version": 3
   },
   "file_extension": ".py",
   "mimetype": "text/x-python",
   "name": "python",
   "nbconvert_exporter": "python",
   "pygments_lexer": "ipython3",
   "version": "3.10.12"
  }
 },
 "nbformat": 4,
 "nbformat_minor": 2
}
